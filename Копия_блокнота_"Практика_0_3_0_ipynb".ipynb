{
  "nbformat": 4,
  "nbformat_minor": 0,
  "metadata": {
    "colab": {
      "provenance": [],
      "include_colab_link": true
    },
    "kernelspec": {
      "name": "python3",
      "display_name": "Python 3"
    },
    "language_info": {
      "name": "python"
    }
  },
  "cells": [
    {
      "cell_type": "markdown",
      "metadata": {
        "id": "view-in-github",
        "colab_type": "text"
      },
      "source": [
        "<a href=\"https://colab.research.google.com/github/VladislavGubarev/programming-practice/blob/main/%D0%9A%D0%BE%D0%BF%D0%B8%D1%8F_%D0%B1%D0%BB%D0%BE%D0%BA%D0%BD%D0%BE%D1%82%D0%B0_%22%D0%9F%D1%80%D0%B0%D0%BA%D1%82%D0%B8%D0%BA%D0%B0_0_3_0_ipynb%22.ipynb\" target=\"_parent\"><img src=\"https://colab.research.google.com/assets/colab-badge.svg\" alt=\"Open In Colab\"/></a>"
      ]
    },
    {
      "cell_type": "markdown",
      "source": [
        "ФИО"
      ],
      "metadata": {
        "id": "phMKaFq3DN13"
      }
    },
    {
      "cell_type": "code",
      "execution_count": null,
      "metadata": {
        "id": "3CWpaI7SDK8t",
        "colab": {
          "base_uri": "https://localhost:8080/"
        },
        "outputId": "2da0cd1e-82bd-401e-e96a-6a7ce8a7c86c"
      },
      "outputs": [
        {
          "output_type": "stream",
          "name": "stdout",
          "text": [
            "Губарев Владислав Анатольевич\n"
          ]
        }
      ],
      "source": [
        "print(\"Губарев Владислав Анатольевич\")"
      ]
    },
    {
      "cell_type": "markdown",
      "source": [
        "**Во всей практике нельзя применять библиотеки предоставляющие готовые решения!**"
      ],
      "metadata": {
        "id": "jyIy3GOgFOCe"
      }
    },
    {
      "cell_type": "markdown",
      "source": [
        "# **Задача 1.**\n"
      ],
      "metadata": {
        "id": "XizmlL1RK2t3"
      }
    },
    {
      "cell_type": "markdown",
      "source": [
        "\n",
        "\n",
        "Типы данных Напишите программу на Python, которая принимает список чисел в качестве входных данных от пользователя, а затем выводит сумму, среднее значение и максимальное значение из списка.\n",
        "\n",
        "***Нельзя использовать: len(), min(), max(), average(), sum()***\n",
        "\n",
        "Дано:\n",
        "```\n",
        "1 2 3 4 5 6 7\n",
        "```\n",
        "Вывод:\n",
        "\n",
        "```\n",
        "Сумма чисел: 28\n",
        "Среднее арифм.: 4.0\n",
        "Максимальное значение: 7\n",
        "```\n",
        "\n"
      ],
      "metadata": {
        "id": "p0v6KtHTFKSd"
      }
    },
    {
      "cell_type": "code",
      "source": [
        "numbers = input(\"Введите свои числа через пробел: \").split()\n",
        "count = 0\n",
        "sum_total = 0\n",
        "max_value = float('-inf')\n",
        "\n",
        "\n",
        "for number in numbers:\n",
        "    count += 1\n",
        "    current_number = float(number)\n",
        "    sum_total += current_number\n",
        "\n",
        "    if current_number > max_value:\n",
        "        max_value = current_number\n",
        "\n",
        "print(f\"Cумма чисел: {sum_total}\")\n",
        "print(f\"Среднее арифметическое: {sum_total / count}\")\n",
        "print(f\"Максимальное значение: {max_value}\")"
      ],
      "metadata": {
        "id": "0e1Virl0FpF6",
        "colab": {
          "base_uri": "https://localhost:8080/"
        },
        "outputId": "3de7aa87-4da5-463f-9d8e-15a11842c2f0"
      },
      "execution_count": null,
      "outputs": [
        {
          "output_type": "stream",
          "name": "stdout",
          "text": [
            "Введите свои числа через пробел: 1 2 3 4 5 6 7\n",
            "Cумма чисел: 28.0\n",
            "Среднее арифметическое: 4.0\n",
            "Максимальное значение: 7.0\n"
          ]
        }
      ]
    },
    {
      "cell_type": "markdown",
      "source": [
        "# **Задача 2.**"
      ],
      "metadata": {
        "id": "uFluc5OSK0NH"
      }
    },
    {
      "cell_type": "markdown",
      "source": [
        "\n",
        "Напишите программу на Python, которая принимает список слов в качестве входных данных от пользователя, а затем распечатывает список в обратном порядке.\n",
        "\n",
        "Ввод:\n",
        "\n",
        "```\n",
        "апельсин мандарин яблоко\n",
        "```\n",
        "\n",
        "Вывод:\n",
        "\n",
        "```\n",
        "яблоко мандарин апельсин\n",
        "```"
      ],
      "metadata": {
        "id": "6T8vg324GG4Z"
      }
    },
    {
      "cell_type": "code",
      "source": [
        "\n",
        "a = input(\"Введите список слов: \").split()\n",
        "\n",
        "\n",
        "reversed_a = ' '.join(a[::-1])\n",
        "\n",
        "\n",
        "print(reversed_a)"
      ],
      "metadata": {
        "id": "v3AWj4ufGKox",
        "colab": {
          "base_uri": "https://localhost:8080/"
        },
        "outputId": "ce6ff2cf-fc6f-4967-8276-12cf0e9cb629"
      },
      "execution_count": null,
      "outputs": [
        {
          "output_type": "stream",
          "name": "stdout",
          "text": [
            "Введите список слов: апельсин мандарин яблоко\n",
            "яблоко мандарин апельсин\n"
          ]
        }
      ]
    },
    {
      "cell_type": "markdown",
      "source": [
        "\n",
        "Напишите программу на Python, которая принимает список слов в качестве входных данных от пользователя, а затем распечатывает список в обратном порядке.\n",
        "\n",
        "Ввод:\n",
        "\n",
        "```\n",
        "апельсин мандарин яблоко\n",
        "```\n",
        "\n",
        "Вывод:\n",
        "\n",
        "```\n",
        "яблоко мандарин апельсин\n",
        "```"
      ],
      "metadata": {
        "id": "zO27q58a1hDr"
      }
    },
    {
      "cell_type": "markdown",
      "source": [
        "# **Задача 3**"
      ],
      "metadata": {
        "id": "D1KkCxtIKxRx"
      }
    },
    {
      "cell_type": "markdown",
      "source": [
        "Простой чат-бот\n",
        "Создайте простого чат-бота, который отвечает на основные запросы пользователей. Программа должна использовать условные выражения для определения намерений пользователя и последующего соответствующего ответа.\n",
        "\n",
        "Чат бот может:\n",
        "\n",
        "- помогать складывать числа\n",
        "- подсказывать фильм, музыку и тд (из заранее созданного списка)\n",
        "- создавать список дел (а также выводить его, обновлять, очищать)\n",
        "\n",
        "Интерфейс чат-бота на ваше усмотрение, это могут быть как заранее определенные команды, так и к примеру вызов команды по номеру\n",
        "\n",
        "*Реализовать без использования функций*\n",
        "\n",
        "Пример:\n",
        "\n",
        "Ввод:\n",
        "\n",
        "```\n",
        "Олег, какую мызыку посоветуешь?\n",
        "```\n",
        "\n",
        "Вывод:\n",
        "\n",
        "```\n",
        "Я бы посоветовал вам: Led Zeppelin Stairway to Heaven\n",
        "```"
      ],
      "metadata": {
        "id": "Yq8Jgb9yHvSi"
      }
    },
    {
      "cell_type": "code",
      "source": [
        "import random\n",
        "\n",
        "film_list = [\"Однажды в Америке\", \"Однажды в России\", \"История Шамана до того как стал известен\", \"Сложно быть русским\"]\n",
        "music_list = [\"Это мой boy-SHAMAN\", \"Я русский-SHAMAN\", \"В Америке ваще плохо-SHAMAN\"]\n",
        "\n",
        "todo_list = []\n",
        "\n",
        "answer = input(\"Здравствуйте! Меня зовут Олег\\nЯ могу помочь вам следующим образом:\\n1. Помогу сложить два числа\\n2. Могу подсказать вам фильм или музыку\\n3. Помогу составить список дел.\\nПросто пришлите номер нужной команды: \")\n",
        "\n",
        "if answer == \"1\":\n",
        "    numbers = input(\"Пришлите нужные два числа через пробел: \").split()\n",
        "    if len(numbers) == 2:\n",
        "        try:\n",
        "            result = float(numbers[0]) + float(numbers[1])\n",
        "            print(f\"Сумма этих чисел равна {result}\")\n",
        "        except ValueError:\n",
        "            print(\"Пожалуйста, убедитесь, что вы ввели числа корректно.\")\n",
        "    else:\n",
        "        print(\"Введите, пожалуйста, два числа.\")\n",
        "\n",
        "elif answer == \"2\":\n",
        "    recomend = input(\"Что вы хотите найти? Музыка или Фильм? \").lower()\n",
        "    if recomend == \"фильм\":\n",
        "        number = random.randrange(0, len(film_list))\n",
        "        print(f\"Фортуна повернулась к вам лицом и вам выпал фильм: {film_list[number]}.\")\n",
        "    elif recomend == \"музыка\":\n",
        "        number = random.randrange(0, len(music_list))\n",
        "        print(f\"Фортуна повернулась к вам лицом и вам выпала чудесная песня: {music_list[number]}.\")\n",
        "    else:\n",
        "        print(\"Пожалуйста, укажите 'музыка' или 'фильм'.\")\n",
        "\n",
        "elif answer == \"3\":\n",
        "    while True:\n",
        "        task = input(\"Введите задачу для своего списка дел (или напишите 'выход' для завершения): \")\n",
        "        if task.lower() == 'выход':\n",
        "            break\n",
        "        todo_list.append(task)\n",
        "        print(f\"Задача '{task}' добавлена в список дел.\")\n",
        "\n",
        "    print(\"Ваш список дел:\")\n",
        "    for idx, item in enumerate(todo_list, start=1):\n",
        "        print(f\"{idx}. {item}\")\n",
        "\n",
        "    clear_list = input(\"Хотите очистить список дел? (да/нет): \").lower()\n",
        "    if clear_list == \"да\":\n",
        "        todo_list.clear()\n",
        "        print(\"Список дел был очищен.\")\n",
        "    else:\n",
        "        print(\"Список дел не был изменён.\")\n",
        "else:\n",
        "    print(\"Некорректная команда. Пожалуйста, попробуйте снова.\")"
      ],
      "metadata": {
        "id": "fmW-tmUtINN9",
        "colab": {
          "base_uri": "https://localhost:8080/"
        },
        "outputId": "8e0cd94b-58b5-419c-c11f-197c20cb2187"
      },
      "execution_count": null,
      "outputs": [
        {
          "output_type": "stream",
          "name": "stdout",
          "text": [
            "Здравствуйте! Меня зовут Олег\n",
            "Я могу помочь вам следующим образом:\n",
            "1. Помогу сложить два числа\n",
            "2. Могу подсказать вам фильм или музыку\n",
            "3. Помогу составить список дел.\n",
            "Просто пришлите номер нужной команды: 3\n",
            "Введите задачу для своего списка дел (или напишите 'выход' для завершения): ывлпрыввд\n",
            "Задача 'ывлпрыввд' добавлена в список дел.\n",
            "Введите задачу для своего списка дел (или напишите 'выход' для завершения): авыолпраолол\n",
            "Задача 'авыолпраолол' добавлена в список дел.\n",
            "Введите задачу для своего списка дел (или напишите 'выход' для завершения): ываолролюау\n",
            "Задача 'ываолролюау' добавлена в список дел.\n",
            "Введите задачу для своего списка дел (или напишите 'выход' для завершения): выход\n",
            "Ваш список дел:\n",
            "1. ывлпрыввд\n",
            "2. авыолпраолол\n",
            "3. ываолролюау\n",
            "Хотите очистить список дел? (да/нет): да\n",
            "Список дел был очищен.\n"
          ]
        }
      ]
    },
    {
      "cell_type": "markdown",
      "source": [
        "# **Задача 4.**\n"
      ],
      "metadata": {
        "id": "PHXBfyc6Ko7D"
      }
    },
    {
      "cell_type": "markdown",
      "source": [
        "Камень, ножницы, бумага\n",
        "\n",
        "Создайте игру в Камень, ножницы, бумагу, в которой пользователь может играть против компьютера. Программа должна запросить выбор пользователя, а затем сгенерировать выбор компьютера. Затем программа должна определить победителя на основе правил игры.\n",
        "\n",
        "**Этап 1:**\n",
        "\n",
        "Определение победителя\n",
        "\n",
        "**Этап 2:**\n",
        "  \n",
        "Игра до 3 побед\n",
        "\n",
        "\n",
        "Ввод для \"Этап 1\":\n",
        "\n",
        "```\n",
        "Камень\n",
        "```\n",
        "\n",
        "Вывод:\n",
        "\n",
        "```\n",
        "Компьютер: Ножницы\n",
        "Игрок: Камень\n",
        "Победа: Игрок\n",
        "```"
      ],
      "metadata": {
        "id": "jnKWeYleI0j6"
      }
    },
    {
      "cell_type": "code",
      "source": [
        "import random\n",
        "def determine_winner(player_choice, computer_choice):\n",
        "    if player_choice == computer_choice:\n",
        "        return \"Ничья\"\n",
        "    elif (player_choice == \"Камень\" and computer_choice == \"Ножницы\") or \\\n",
        "         (player_choice == \"Ножницы\" and computer_choice == \"Бумага\") or \\\n",
        "         (player_choice == \"Бумага\" and computer_choice == \"Камень\"):\n",
        "        return \"Игрок\"\n",
        "    else:\n",
        "        return \"Компьютер\"\n",
        "\n",
        "def play_game():\n",
        "    player_score = 0\n",
        "    computer_score = 0\n",
        "\n",
        "    while player_score < 3 and computer_score < 3:\n",
        "        player_choice = input(\"Выберите (Камень, Ножницы, Бумага): \").capitalize()\n",
        "        if player_choice not in [\"Камень\", \"Ножницы\", \"Бумага\"]:\n",
        "            print(\"Ошибка: выберите корректный вариант!\")\n",
        "            continue\n",
        "\n",
        "        computer_choice = random.choice([\"Камень\", \"Ножницы\", \"Бумага\"])\n",
        "\n",
        "        print(f\"Компьютер: {computer_choice}\")\n",
        "        print(f\"Игрок: {player_choice}\")\n",
        "        winner = determine_winner(player_choice, computer_choice)\n",
        "        print(f\"Победа: {winner}\")\n",
        "\n",
        "\n",
        "        if winner == \"Игрок\":\n",
        "            player_score += 1\n",
        "            print(f\"Счет: Игрок {player_score} - {computer_score} Компьютер\")\n",
        "        elif winner == \"Компьютер\":\n",
        "            computer_score += 1\n",
        "            print(f\"Счет: Игрок {player_score} - {computer_score} Компьютер\")\n",
        "        else:\n",
        "            print(\"Ничья, счет не меняется.\")\n",
        "\n",
        "\n",
        "    if player_score == 3:\n",
        "        print(\"Поздравляем! Вы выиграли игру!\")\n",
        "    else:\n",
        "        print(\"Компьютер выиграл игру!\")\n",
        "\n",
        "\n",
        "if __name__ == \"__main__\":\n",
        "    play_game()"
      ],
      "metadata": {
        "id": "ooIPCRe_JHkX",
        "colab": {
          "base_uri": "https://localhost:8080/"
        },
        "outputId": "e5986956-97ec-4331-af6b-60d6b11e3495"
      },
      "execution_count": null,
      "outputs": [
        {
          "output_type": "stream",
          "name": "stdout",
          "text": [
            "Выберите (Камень, Ножницы, Бумага): камень\n",
            "Компьютер: Бумага\n",
            "Игрок: Камень\n",
            "Победа: Компьютер\n",
            "Счет: Игрок 0 - 1 Компьютер\n",
            "Выберите (Камень, Ножницы, Бумага): ножницы\n",
            "Компьютер: Камень\n",
            "Игрок: Ножницы\n",
            "Победа: Компьютер\n",
            "Счет: Игрок 0 - 2 Компьютер\n",
            "Выберите (Камень, Ножницы, Бумага): Бумага\n",
            "Компьютер: Камень\n",
            "Игрок: Бумага\n",
            "Победа: Игрок\n",
            "Счет: Игрок 1 - 2 Компьютер\n",
            "Выберите (Камень, Ножницы, Бумага): Ножницы\n",
            "Компьютер: Ножницы\n",
            "Игрок: Ножницы\n",
            "Победа: Ничья\n",
            "Ничья, счет не меняется.\n",
            "Выберите (Камень, Ножницы, Бумага): ножницы\n",
            "Компьютер: Бумага\n",
            "Игрок: Ножницы\n",
            "Победа: Игрок\n",
            "Счет: Игрок 2 - 2 Компьютер\n",
            "Выберите (Камень, Ножницы, Бумага): ножницы\n",
            "Компьютер: Ножницы\n",
            "Игрок: Ножницы\n",
            "Победа: Ничья\n",
            "Ничья, счет не меняется.\n",
            "Выберите (Камень, Ножницы, Бумага): ножницы\n",
            "Компьютер: Ножницы\n",
            "Игрок: Ножницы\n",
            "Победа: Ничья\n",
            "Ничья, счет не меняется.\n",
            "Выберите (Камень, Ножницы, Бумага): ножницы\n",
            "Компьютер: Ножницы\n",
            "Игрок: Ножницы\n",
            "Победа: Ничья\n",
            "Ничья, счет не меняется.\n",
            "Выберите (Камень, Ножницы, Бумага): Камень\n",
            "Компьютер: Камень\n",
            "Игрок: Камень\n",
            "Победа: Ничья\n",
            "Ничья, счет не меняется.\n",
            "Выберите (Камень, Ножницы, Бумага): Бумага\n",
            "Компьютер: Камень\n",
            "Игрок: Бумага\n",
            "Победа: Игрок\n",
            "Счет: Игрок 3 - 2 Компьютер\n",
            "Поздравляем! Вы выиграли игру!\n"
          ]
        }
      ]
    },
    {
      "cell_type": "markdown",
      "source": [
        "# **Задача 5.**"
      ],
      "metadata": {
        "id": "Hg4FJNFbLHQO"
      }
    },
    {
      "cell_type": "markdown",
      "source": [
        "Создайте игру \"Палач\" или \"Виселица\", в которой пользователь должен угадать слово, предлагая буквы. Программа должна выбрать случайное слово, а затем разрешить пользователю угадывать буквы. После каждого угадывания программа должна сообщать пользователю, есть ли в слове буква или нет.\n",
        "\n",
        "**Этап 1**\n",
        "Создать саму игру\n",
        "\n",
        "**Этап 2:**\n",
        "Ввести подсчет количества очков и ограничения на попытки\n",
        "\n",
        "**Этап 3:** Добавить возможность сразу угадать слово"
      ],
      "metadata": {
        "id": "OHqj3HJuLJgY"
      }
    },
    {
      "cell_type": "code",
      "source": [
        "import random\n",
        "\n",
        "\n",
        "words = ['БАНАН', 'ЯБЛОКО', 'МАНДАРИН', 'ГРУША', 'КИВИ']\n",
        "\n",
        "def choose_word():\n",
        "    return random.choice(words)\n",
        "\n",
        "def display_word(word, guessed_letters):\n",
        "    return ' '.join([letter if letter in guessed_letters else '_' for letter in word])\n",
        "\n",
        "def main():\n",
        "    print(\"Добро пожаловать в игру 'Виселица'!\")\n",
        "    word = choose_word()\n",
        "    guessed_letters = []\n",
        "    attempts = 6\n",
        "    score = 0\n",
        "\n",
        "    while attempts > 0:\n",
        "        print(\"\\nУгадываемое слово: \", display_word(word, guessed_letters))\n",
        "        print(f\"У вас осталось попыток: {attempts}\")\n",
        "        guess = input(\"Введите букву или попробуйте угадать слово: \").upper()\n",
        "\n",
        "        if len(guess) == 1:\n",
        "            if guess in guessed_letters:\n",
        "                print(\"Вы уже угадали эту букву.\")\n",
        "            elif guess in word:\n",
        "                guessed_letters.append(guess)\n",
        "                score += 1\n",
        "                print(f\"Поздравляем! Буква '{guess}' есть в слове.\")\n",
        "            else:\n",
        "                attempts -= 1\n",
        "                print(f\"К сожалению, буквы '{guess}' нет в слове.\")\n",
        "        elif len(guess) == len(word):\n",
        "            if guess == word:\n",
        "                print(\"Поздравляем! Вы угадали слово!\")\n",
        "                score += 5\n",
        "                break\n",
        "            else:\n",
        "                attempts -= 1\n",
        "                print(\"Неправильное слово!\")\n",
        "        else:\n",
        "            print(\"Введите одну букву или попробуйте угадать слово целиком.\")\n",
        "\n",
        "\n",
        "        if all(letter in guessed_letters for letter in word):\n",
        "            print(f\"Вы угадали слово: {word}! Поздравляем!\")\n",
        "            score += 3\n",
        "            break\n",
        "\n",
        "    if attempts == 0:\n",
        "        print(f\"Вы проиграли. Загаданное слово: {word}\")\n",
        "\n",
        "    print(f\"Ваши очки: {score}\")\n",
        "\n",
        "if __name__ == '__main__':\n",
        "    main()"
      ],
      "metadata": {
        "id": "0N2zCYwVLiIw",
        "colab": {
          "base_uri": "https://localhost:8080/"
        },
        "outputId": "363d05c4-a353-4a0c-c5da-5d40213db330"
      },
      "execution_count": null,
      "outputs": [
        {
          "output_type": "stream",
          "name": "stdout",
          "text": [
            "Добро пожаловать в игру 'Виселица'!\n",
            "\n",
            "Угадываемое слово:  _ _ _ _ _ _ _ _\n",
            "У вас осталось попыток: 6\n",
            "Введите букву или попробуйте угадать слово: м\n",
            "Поздравляем! Буква 'М' есть в слове.\n",
            "\n",
            "Угадываемое слово:  М _ _ _ _ _ _ _\n",
            "У вас осталось попыток: 6\n",
            "Введите букву или попробуйте угадать слово: МАНДАРИН\n",
            "Поздравляем! Вы угадали слово!\n",
            "Ваши очки: 6\n"
          ]
        }
      ]
    },
    {
      "cell_type": "markdown",
      "source": [
        "# **Дополнительно: Задача 6.**\n"
      ],
      "metadata": {
        "id": "w0x3QFGzKtDD"
      }
    },
    {
      "cell_type": "markdown",
      "source": [
        "\n",
        "**Цифра на определенном месте:**\n",
        "\n",
        "Последовательно записан натуральный ряд чисел.\n",
        "\n",
        "Какая цифра стоит в N позиции\n",
        "\n",
        "\n",
        "Вввод:\n",
        "\n",
        "```\n",
        "Введите номер позиции: 1234567890\n",
        "```\n",
        "\n",
        "Вывод:\n",
        "\n",
        "```\n",
        "8\n",
        "```"
      ],
      "metadata": {
        "id": "QqZArcpHJxVj"
      }
    },
    {
      "cell_type": "code",
      "source": [
        "numbers= input(\"Введите номер позиции: \")\n"
      ],
      "metadata": {
        "id": "LwjYwBGcKiJ9"
      },
      "execution_count": null,
      "outputs": []
    }
  ]
}