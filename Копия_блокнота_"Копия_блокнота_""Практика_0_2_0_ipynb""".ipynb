{
  "nbformat": 4,
  "nbformat_minor": 0,
  "metadata": {
    "colab": {
      "provenance": [],
      "include_colab_link": true
    },
    "kernelspec": {
      "name": "python3",
      "display_name": "Python 3"
    },
    "language_info": {
      "name": "python"
    }
  },
  "cells": [
    {
      "cell_type": "markdown",
      "metadata": {
        "id": "view-in-github",
        "colab_type": "text"
      },
      "source": [
        "<a href=\"https://colab.research.google.com/github/VladislavGubarev/programming-practice/blob/main/%D0%9A%D0%BE%D0%BF%D0%B8%D1%8F_%D0%B1%D0%BB%D0%BE%D0%BA%D0%BD%D0%BE%D1%82%D0%B0_%22%D0%9A%D0%BE%D0%BF%D0%B8%D1%8F_%D0%B1%D0%BB%D0%BE%D0%BA%D0%BD%D0%BE%D1%82%D0%B0_%22%22%D0%9F%D1%80%D0%B0%D0%BA%D1%82%D0%B8%D0%BA%D0%B0_0_2_0_ipynb%22%22%22.ipynb\" target=\"_parent\"><img src=\"https://colab.research.google.com/assets/colab-badge.svg\" alt=\"Open In Colab\"/></a>"
      ]
    },
    {
      "cell_type": "markdown",
      "source": [
        "Напишите свое ФИО:"
      ],
      "metadata": {
        "id": "0PnTh-ajEoEb"
      }
    },
    {
      "cell_type": "code",
      "source": [
        "Губарев Владислав Анатольевич"
      ],
      "metadata": {
        "id": "QyMVPjzWErHw"
      },
      "execution_count": null,
      "outputs": []
    },
    {
      "cell_type": "markdown",
      "source": [
        "# Основы"
      ],
      "metadata": {
        "id": "HPwKiIA4EKO-"
      }
    },
    {
      "cell_type": "markdown",
      "source": [
        "Задание 1: Напиши программу, выводящую на экран сообщение \"Привет, мир!\""
      ],
      "metadata": {
        "id": "8po5IidFERZ8"
      }
    },
    {
      "cell_type": "code",
      "execution_count": null,
      "metadata": {
        "id": "sBRjlCVLEIQr",
        "colab": {
          "base_uri": "https://localhost:8080/"
        },
        "outputId": "b6a8b64a-3754-49b3-c802-07c799c2635e"
      },
      "outputs": [
        {
          "output_type": "stream",
          "name": "stdout",
          "text": [
            "\"Привет, мир!\"\n"
          ]
        }
      ],
      "source": [
        "print('\"Привет, мир!\"')"
      ]
    },
    {
      "cell_type": "markdown",
      "source": [
        "Задание 2: Напиши программу которая запрашивает имя пользователя и выводит сообщение:\n",
        "\n",
        "`Привет, <Имя пользователя>`"
      ],
      "metadata": {
        "id": "pUQIIo94EYLg"
      }
    },
    {
      "cell_type": "code",
      "source": [
        "name = input('Введите имя пользователя ')\n",
        "print('Привет, '+name)"
      ],
      "metadata": {
        "id": "nNwHKmAnEinH",
        "colab": {
          "base_uri": "https://localhost:8080/"
        },
        "outputId": "456da39e-90df-4d58-85c9-87949c5efb3f"
      },
      "execution_count": null,
      "outputs": [
        {
          "output_type": "stream",
          "name": "stdout",
          "text": [
            "Введите имя пользователя 2\n",
            "Привет, 2\n"
          ]
        }
      ]
    },
    {
      "cell_type": "markdown",
      "source": [
        "Задание 3: Напиши программу определяющую является ли число четным или нечетным:\n",
        "\n",
        "Пример:\n",
        "\n",
        "`Введите число:` 2\n",
        "\n",
        "`Ваше число четное!`"
      ],
      "metadata": {
        "id": "SAUm9W6_Etkh"
      }
    },
    {
      "cell_type": "code",
      "source": [
        "number = int(input('Введите целое число: '))\n",
        "if(number%2==0):\n",
        "   print(\"Ваше число четное!\")\n",
        "\n",
        "else:\n",
        "    print(\"Ваше число нечетное!\")"
      ],
      "metadata": {
        "id": "LXv7AIN1E4on",
        "colab": {
          "base_uri": "https://localhost:8080/"
        },
        "outputId": "938fd55c-f3a3-4646-f196-3697a3829553"
      },
      "execution_count": null,
      "outputs": [
        {
          "output_type": "stream",
          "name": "stdout",
          "text": [
            "Введите целое число: 2\n",
            "Ваше число четное!\n"
          ]
        }
      ]
    },
    {
      "cell_type": "markdown",
      "source": [
        "Задание 4: Напишите программу которая запрашивает длинну и ширину прямоугольника и выводит его площадь:\n",
        "\n",
        "\n",
        "\n",
        "`Введите длинну прямоугольника:`\n",
        "\n",
        "`Введите ширину прямоугольника:`\n",
        "\n",
        "`Площадь прямоугольника: `\n",
        "\n"
      ],
      "metadata": {
        "id": "OW1Y5KyUE_n9"
      }
    },
    {
      "cell_type": "code",
      "source": [
        "lenght= float(input(\"Введите длинну прямоугольника: \"))\n",
        "width= float(input(\"ведите ширину прямоугольника: \"))\n",
        "\n",
        "print(f\"Площадь прямоугольника: {lenght*width}\")"
      ],
      "metadata": {
        "colab": {
          "base_uri": "https://localhost:8080/"
        },
        "id": "vfOzorJA7R9m",
        "outputId": "987fe160-0fcd-4e23-f9fd-ee5e15ded466"
      },
      "execution_count": null,
      "outputs": [
        {
          "output_type": "stream",
          "name": "stdout",
          "text": [
            "Введите длинну прямоугольника: 2\n",
            "ведите ширину прямоугольника: 2\n",
            "Площадь прямоугольника: 4.0\n"
          ]
        }
      ]
    },
    {
      "cell_type": "markdown",
      "source": [
        "Задание 5: Напишите программу, которая будет вычислять среднее арифметическое введенных чисел"
      ],
      "metadata": {
        "id": "xj8_QNLsFfLw"
      }
    },
    {
      "cell_type": "code",
      "source": [
        "numbers_list=input(\"Введите числа через запятую. Пример: 1,2,3,4,5,6\\n\")\n",
        "\n",
        "numbers_list = numbers_list.replace(' ','').split(\",\")\n",
        "sum=0\n",
        "for numbers in numbers_list:\n",
        "    numbers=int(numbers)\n",
        "    sum= numbers + sum\n",
        "print(f\"Среднее арефметическое чисел равна {sum/len(numbers_list)}\")\n"
      ],
      "metadata": {
        "id": "omumX59JFoKw",
        "outputId": "1cd2f001-0b1f-4907-8a5a-a81b97bfbab9",
        "colab": {
          "base_uri": "https://localhost:8080/"
        }
      },
      "execution_count": null,
      "outputs": [
        {
          "output_type": "stream",
          "name": "stdout",
          "text": [
            "Введите числа через запятую. Пример: 1,2,3,4,5,6\n",
            "1,2,3,4,5,6,  6,7,8,9, 1,2\n",
            "Среднее арефметическое чисел равна 4.5\n"
          ]
        }
      ]
    },
    {
      "cell_type": "markdown",
      "source": [
        "Задание 6: Напиши программу, которая бы определяла является ли год високосным"
      ],
      "metadata": {
        "id": "qHXcBMUJcP91"
      }
    },
    {
      "cell_type": "code",
      "source": [
        "year=int(input(\"Введите год \"))\n",
        "if(year%4==0):\n",
        "    print(\"Ваш год високосный\")\n",
        "else:\n",
        "    print(\"Ваш год не високосный\")"
      ],
      "metadata": {
        "id": "5zIg47mwcKKr",
        "colab": {
          "base_uri": "https://localhost:8080/"
        },
        "outputId": "43a91bfc-a031-4c46-ba31-0c25e554a711"
      },
      "execution_count": null,
      "outputs": [
        {
          "output_type": "stream",
          "name": "stdout",
          "text": [
            "Введите год2024\n",
            "Ваш год високосный\n"
          ]
        }
      ]
    },
    {
      "cell_type": "markdown",
      "source": [
        "Задание 7: Необходимо создать простой калькулятор, который позволяет пользователю выбрать одну из четырёх операций (+, -, *, /), ввести два числа и получить результат выполнения операции."
      ],
      "metadata": {
        "id": "CYaQ69kucdhj"
      }
    },
    {
      "cell_type": "code",
      "source": [
        "num_one= float(input(\"Введите первое число\\n\"))\n",
        "num_two= float(input(\"Введите второе число\\n\"))\n",
        "operation = input(\"Выберите одну из операций: +,-,*,/\\n\")\n",
        "result=0\n",
        "if(operation==\"+\"):\n",
        "  result = num_one + num_two\n",
        "\n",
        "if(operation==\"-\"):\n",
        "  result = num_one - num_two\n",
        "\n",
        "if(operation==\"*\"):\n",
        "  result = num_one * num_two\n",
        "\n",
        "if(operation==\"/\"):\n",
        "  result = num_one / num_two\n",
        "\n",
        "print(f\"Результат равен {result}\")\n"
      ],
      "metadata": {
        "id": "wR5UyEf7ciIE",
        "colab": {
          "base_uri": "https://localhost:8080/"
        },
        "outputId": "d1e3d5ca-3aa2-4803-c395-f98ffba4b70b"
      },
      "execution_count": null,
      "outputs": [
        {
          "output_type": "stream",
          "name": "stdout",
          "text": [
            "Введите первое число\n",
            "22\n",
            "Введите второе число\n",
            "12.2\n",
            "Выберите одну из операций: +,-,*,/\n",
            "+\n",
            "Результат равен 34.2\n"
          ]
        }
      ]
    },
    {
      "cell_type": "markdown",
      "source": [
        "# Практика 0.2.1"
      ],
      "metadata": {
        "id": "XWBhGpdEFo-U"
      }
    },
    {
      "cell_type": "markdown",
      "source": [
        "**Шахматы**\n",
        "\n",
        "Даны стартовые и конечные координаты, а также фигура\n",
        "\n",
        "Необходимо определить, может ли заданная фигура так ходить?"
      ],
      "metadata": {
        "id": "9Lw9odpqFwtn"
      }
    },
    {
      "cell_type": "code",
      "source": [
        "\n",
        "figure = input(\"Введите фигуру (пешка, слон, конь, ладья, ферзь, король): \").strip().lower()\n",
        "start_x = int(input(\"Введите стартовую координату X (1-8): \"))\n",
        "start_y = int(input(\"Введите стартовую координату Y (1-8): \"))\n",
        "end_x = int(input(\"Введите конечную координату X (1-8): \"))\n",
        "end_y = int(input(\"Введите конечную координату Y (1-8): \"))\n",
        "\n",
        "\n",
        "if not (1 <= start_x <= 8 and 1 <= start_y <= 8 and 1 <= end_x <= 8 and 1 <= end_y <= 8):\n",
        "    print(\"Координаты должны быть в диапазоне от 1 до 8.\")\n",
        "else:\n",
        "    if figure == \"пешка\":\n",
        "        if (start_x == end_x and end_y == start_y + 1) or (start_x == end_x and start_y == 2 and end_y == 4):\n",
        "            print(\"Пешка может так ходить.\")\n",
        "        else:\n",
        "            print(\"Пешка не может так ходить.\")\n",
        "\n",
        "    elif figure == \"слон\":\n",
        "        if abs(start_x - end_x) == abs(start_y - end_y):\n",
        "            print(\"Слон может так ходить.\")\n",
        "        else:\n",
        "            print(\"Слон не может так ходить.\")\n",
        "\n",
        "    elif figure == \"конь\":\n",
        "        if (abs(start_x - end_x) == 2 and abs(start_y - end_y) == 1) or (abs(start_x - end_x) == 1 and abs(start_y - end_y) == 2):\n",
        "            print(\"Конь может так ходить.\")\n",
        "        else:\n",
        "            print(\"Конь не может так ходить.\")\n",
        "\n",
        "    elif figure == \"ладья\":\n",
        "        if start_x == end_x or start_y == end_y:\n",
        "            print(\"Ладья может так ходить.\")\n",
        "        else:\n",
        "            print(\"Ладья не может так ходить.\")\n",
        "\n",
        "    elif figure == \"ферзь\":\n",
        "        if (start_x == end_x or start_y == end_y) or (abs(start_x - end_x) == abs(start_y - end_y)):\n",
        "            print(\"Ферзь может так ходить.\")\n",
        "        else:\n",
        "            print(\"Ферзь не может так ходить.\")\n",
        "\n",
        "    elif figure == \"король\":\n",
        "        if max(abs(start_x - end_x), abs(start_y - end_y)) == 1:\n",
        "            print(\"Король может так ходить.\")\n",
        "        else:\n",
        "            print(\"Король не может так ходить.\")\n",
        "\n",
        "    else:\n",
        "        print(\"Неизвестная фигура.\")"
      ],
      "metadata": {
        "id": "9IICo0p3F07P",
        "colab": {
          "base_uri": "https://localhost:8080/"
        },
        "outputId": "a623009d-39c4-417e-fc7e-a066cc1f9ce9"
      },
      "execution_count": null,
      "outputs": [
        {
          "output_type": "stream",
          "name": "stdout",
          "text": [
            "Введите фигуру (пешка, слон, конь, ладья, ферзь, король): король\n",
            "Введите стартовую координату X (1-8): 1\n",
            "Введите стартовую координату Y (1-8): 1\n",
            "Введите конечную координату X (1-8): 1\n",
            "Введите конечную координату Y (1-8): 2\n",
            "Король может так ходить.\n"
          ]
        }
      ]
    },
    {
      "cell_type": "markdown",
      "source": [
        "# Практика 0.2.2\n",
        "\n",
        "**Цифра на определенном месте:**\n",
        "\n",
        "Последовательно записан натуральный ряд чисел.\n",
        "\n",
        "Какая цифра стоит в N позиции"
      ],
      "metadata": {
        "id": "wI5bLNpHGDmO"
      }
    },
    {
      "cell_type": "markdown",
      "source": [],
      "metadata": {
        "id": "PdfWfv1YArS6"
      }
    },
    {
      "cell_type": "code",
      "source": [
        "numbers_list= input(\"Запишите ряд натуральных чисел через запятую. Пример:1,2,3,4,5,2,3\\n \").replace(' ','')\n",
        "index = int(input(\"Введите позицию. Пример: 1\"))\n",
        "\n",
        "numbers_list = numbers_list.split(\",\")\n",
        "\n",
        "lenght= len(numbers_list)\n",
        "\n",
        "if(lenght==0):\n",
        "    print(\"вы ввели пустую строку\")\n",
        "\n",
        "if(index>lenght):\n",
        "    print(\"Такой позиции не существует \")\n",
        "else:\n",
        "    print(f\"В {index} позиции стоит {numbers_list[index-1]}\")\n",
        "\n"
      ],
      "metadata": {
        "id": "XLm_zFGzGNsU",
        "colab": {
          "base_uri": "https://localhost:8080/"
        },
        "outputId": "d33d4c99-10ea-4a02-f2ef-ddcd787dba2f"
      },
      "execution_count": null,
      "outputs": [
        {
          "output_type": "stream",
          "name": "stdout",
          "text": [
            "Запишите ряд натуральных чисел через запятую. Пример:1,2,3,4,5,2,3\n",
            " 1, 2,3,4,5,6,7,8\n",
            "Введите позицию. Пример: 12\n",
            "В 2 позиции стоит 2\n"
          ]
        }
      ]
    },
    {
      "cell_type": "markdown",
      "source": [
        "# Практика 0.2.3\n",
        "\n",
        "\n",
        "Возьмите код из задания 7 и улучшите ваш калькулятор следующим образом:\n",
        "\n",
        "Пользователь вводит строку вида:\n",
        "\n",
        "(5+5)*5 - данная строка содержит в себе математическое выражение, а также скобки\n",
        "\n",
        "Ваша программа должная понять что за математическое выражение записано, проверить верно ли оно записано (пример неверного заполнения: (5(+)5)*5, а также расчитать его в соотвествии с правилами математики"
      ],
      "metadata": {
        "id": "dpxTJv-scnMy"
      }
    },
    {
      "cell_type": "code",
      "source": [
        "\n",
        "expression = input(\"Введите математическое выражение:\")\n",
        "\n",
        "\n",
        "expression = expression.replace(' ', '')\n",
        "\n",
        "\n",
        "numbers = []\n",
        "operations = []\n",
        "\n",
        "\n",
        "i = 0\n",
        "while i < len(expression):\n",
        "    if expression[i].isdigit():\n",
        "        num = ''\n",
        "        while i < len(expression) and expression[i].isdigit():\n",
        "            num += expression[i]\n",
        "            i += 1\n",
        "        numbers.append(int(num))\n",
        "    else:\n",
        "        operations.append(expression[i])\n",
        "        i += 1\n",
        "\n",
        "\n",
        "index = 0\n",
        "while index < len(operations):\n",
        "    if operations[index] == '*':\n",
        "        numbers[index] = numbers[index] * numbers[index + 1]\n",
        "        del numbers[index + 1]\n",
        "        del operations[index]\n",
        "        index -= 1\n",
        "    elif operations[index] == '/':\n",
        "        numbers[index] = numbers[index] // numbers[index + 1]\n",
        "        del numbers[index + 1]\n",
        "        del operations[index]\n",
        "        index -= 1\n",
        "    index += 1\n",
        "\n",
        "\n",
        "while '(' in expression:\n",
        "    close_idx = expression.index(')')\n",
        "    open_idx = expression.rindex('(', 0, close_idx)\n",
        "    inner_expr = expression[open_idx + 1:close_idx]\n",
        "\n",
        "\n",
        "    inner_numbers = []\n",
        "    inner_operations = []\n",
        "    j = 0\n",
        "\n",
        "    while j < len(inner_expr):\n",
        "        if inner_expr[j].isdigit():\n",
        "            num = ''\n",
        "            while j < len(inner_expr) and inner_expr[j].isdigit():\n",
        "                num += inner_expr[j]\n",
        "                j += 1\n",
        "            inner_numbers.append(int(num))\n",
        "        else:\n",
        "            inner_operations.append(inner_expr[j])\n",
        "            j += 1\n",
        "\n",
        "    inner_index = 0\n",
        "    while inner_index < len(inner_operations):\n",
        "        if inner_operations[inner_index] == '*':\n",
        "            inner_numbers[inner_index] = inner_numbers[inner_index] * inner_numbers[inner_index + 1]\n",
        "            del inner_numbers[inner_index + 1]\n",
        "            del inner_operations[inner_index]\n",
        "            inner_index -= 1\n",
        "        elif inner_operations[inner_index] == '/':\n",
        "            inner_numbers[inner_index] = inner_numbers[inner_index] // inner_numbers[inner_index + 1]\n",
        "            del inner_numbers[inner_index + 1]\n",
        "            del inner_operations[inner_index]\n",
        "            inner_index -= 1\n",
        "        inner_index += 1\n",
        "\n",
        "    inner_result = inner_numbers[0]\n",
        "    for inner_index in range(len(inner_operations)):\n",
        "        if inner_operations[inner_index] == '+':\n",
        "            inner_result += inner_numbers[inner_index + 1]\n",
        "        elif inner_operations[inner_index] == '-':\n",
        "            inner_result -= inner_numbers[inner_index + 1]\n",
        "\n",
        "    expression = expression[:open_idx] + str(inner_result) + expression[close_idx + 1:]\n",
        "\n",
        "\n",
        "    numbers = []\n",
        "    operations = []\n",
        "    i = 0\n",
        "    while i < len(expression):\n",
        "        if expression[i].isdigit():\n",
        "            num = ''\n",
        "            while i < len(expression) and expression[i].isdigit():\n",
        "                num += expression[i]\n",
        "                i += 1\n",
        "            numbers.append(int(num))\n",
        "        else:\n",
        "            operations.append(expression[i])\n",
        "            i += 1\n",
        "\n",
        "\n",
        "result = numbers[0]\n",
        "for index in range(len(operations)):\n",
        "    if operations[index] == '+':\n",
        "        result += numbers[index + 1]\n",
        "    elif operations[index] == '-':\n",
        "        result -= numbers[index + 1]\n",
        "\n",
        "print(\"Результат:\", result)\n"
      ],
      "metadata": {
        "id": "18gOluyHcmmf",
        "colab": {
          "base_uri": "https://localhost:8080/"
        },
        "outputId": "7297dc0a-9a95-44e0-cd26-913c3e099246"
      },
      "execution_count": null,
      "outputs": [
        {
          "output_type": "stream",
          "name": "stdout",
          "text": [
            "Введите математическое выражение: (5*5)+60\n",
            "Результат: 85\n"
          ]
        }
      ]
    }
  ]
}