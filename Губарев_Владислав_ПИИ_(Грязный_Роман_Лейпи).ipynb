{
  "nbformat": 4,
  "nbformat_minor": 0,
  "metadata": {
    "colab": {
      "provenance": [],
      "include_colab_link": true
    },
    "kernelspec": {
      "name": "python3",
      "display_name": "Python 3"
    },
    "language_info": {
      "name": "python"
    }
  },
  "cells": [
    {
      "cell_type": "markdown",
      "metadata": {
        "id": "view-in-github",
        "colab_type": "text"
      },
      "source": [
        "<a href=\"https://colab.research.google.com/github/VladislavGubarev/programming-practice/blob/main/%D0%93%D1%83%D0%B1%D0%B0%D1%80%D0%B5%D0%B2_%D0%92%D0%BB%D0%B0%D0%B4%D0%B8%D1%81%D0%BB%D0%B0%D0%B2_%D0%9F%D0%98%D0%98_(%D0%93%D1%80%D1%8F%D0%B7%D0%BD%D1%8B%D0%B9_%D0%A0%D0%BE%D0%BC%D0%B0%D0%BD_%D0%9B%D0%B5%D0%B9%D0%BF%D0%B8).ipynb\" target=\"_parent\"><img src=\"https://colab.research.google.com/assets/colab-badge.svg\" alt=\"Open In Colab\"/></a>"
      ]
    },
    {
      "cell_type": "markdown",
      "source": [
        "\n",
        "\n",
        "---\n",
        "\n"
      ],
      "metadata": {
        "id": "tKNG_RzWxG6g"
      }
    },
    {
      "cell_type": "markdown",
      "source": [
        "# **Дисклеймер**\n",
        "\n",
        "В данной практике будет введен дополнительный критерий: чистота и читаемость кода, а также соблюдение правил описанных в начале практики"
      ],
      "metadata": {
        "id": "cFcrKfclKWh0"
      }
    },
    {
      "cell_type": "markdown",
      "source": [
        "\n",
        "\n",
        "---\n",
        "\n"
      ],
      "metadata": {
        "id": "0SnE87X1xDlV"
      }
    },
    {
      "cell_type": "markdown",
      "source": [
        "# Задание 1\n",
        "\n",
        "**Задача:**\n",
        "\n",
        "Напишите функцию очищающий список от дубликтов\n",
        "\n",
        "\n",
        "*Запрещено:*\n",
        "\n",
        "*   Использовать set() или готовые функции очищающие список от дубликатов\n",
        "\n",
        "Вввод:\n",
        "\n",
        "```\n",
        "apple banana apple 1 3 4 4 5\n",
        "```\n",
        "\n",
        "\n",
        "Вывод:\n",
        "\n",
        "```\n",
        "apple banana 1 3 4 5\n",
        "```\n",
        "\n"
      ],
      "metadata": {
        "id": "VxawR9NubT_F"
      }
    },
    {
      "cell_type": "code",
      "source": [
        "def duplicate (unsort_list):\n",
        "    unique_list=[]\n",
        "\n",
        "    for item in unsort_list:\n",
        "        if item not in unique_list:\n",
        "            unique_list.append(item)\n",
        "\n",
        "    return unique_list\n",
        "\n",
        "unsort_list = input(\"Введите список \").split()\n",
        "\n",
        "print(duplicate(unsort_list))"
      ],
      "metadata": {
        "id": "ml5gnbPXbeju",
        "colab": {
          "base_uri": "https://localhost:8080/"
        },
        "outputId": "b84ad3da-ed81-49fd-9e18-c44b2a4a09f3"
      },
      "execution_count": null,
      "outputs": [
        {
          "output_type": "stream",
          "name": "stdout",
          "text": [
            "Введите список1 2 3 4 5 6 7 apple apple apple aaaaaaa a\n",
            "['1', '2', '3', '4', '5', '6', '7', 'apple', 'aaaaaaa', 'a']\n"
          ]
        }
      ]
    },
    {
      "cell_type": "markdown",
      "source": [
        "# Задание 2\n",
        "\n",
        "**Задача:**\n",
        "\n",
        "Написать функцию для нахождения простых чисел в диапазоне\n",
        "\n",
        "Ввод:\n",
        "\n",
        "```\n",
        "10, 50\n",
        "```\n",
        "\n",
        "Вывод:\n",
        "\n",
        "```\n",
        "11, 13, 17, 19, 23, 29, 31, 37, 41, 43, 47\n",
        "```"
      ],
      "metadata": {
        "id": "y05x0eD0cVCC"
      }
    },
    {
      "cell_type": "code",
      "source": [
        "def is_prime(num):\n",
        "\n",
        "    if num < 2:\n",
        "        return False\n",
        "    for i in range(2, int(num**0.5) + 1):\n",
        "        if num % i == 0:\n",
        "            return False\n",
        "    return True\n",
        "\n",
        "def find_primes_in_range(a, b):\n",
        "\n",
        "    primes = []\n",
        "    for num in range(a, b + 1):\n",
        "        if is_prime(num):\n",
        "            primes.append(num)\n",
        "    return primes\n",
        "\n",
        "\n",
        "a = 10\n",
        "b = 50\n",
        "prime_numbers = find_primes_in_range(a, b)\n",
        "print(f\"Простые числа в диапазоне от {a} до {b}: {prime_numbers}\")\n"
      ],
      "metadata": {
        "id": "XSMJnLgrc6Bf",
        "colab": {
          "base_uri": "https://localhost:8080/"
        },
        "outputId": "01cb981f-c94f-48fd-8614-ece3cae30847"
      },
      "execution_count": null,
      "outputs": [
        {
          "output_type": "stream",
          "name": "stdout",
          "text": [
            "Простые числа в диапазоне от 10 до 50: [11, 13, 17, 19, 23, 29, 31, 37, 41, 43, 47]\n"
          ]
        }
      ]
    },
    {
      "cell_type": "markdown",
      "source": [
        "# Задание 3\n",
        "\n",
        "Напишите функцию для объединения двух списков (список ключей и список значении) в словарь\n",
        "\n",
        "*Запрещено:*\n",
        "\n",
        "*   Использования готовых функции для объединения списков (пример: zip() )\n",
        "\n",
        "Дано:\n",
        "\n",
        "```\n",
        "keys = ['a', 'b', 'c', 'e' ]\n",
        "values = [1, 2, 3, 4]\n",
        "```\n",
        "\n",
        "Вывод:\n",
        "```\n",
        "{'a': 1, 'b': 2, 'c': 3, 'e': 4}\n",
        "```\n",
        "\n",
        "\n"
      ],
      "metadata": {
        "id": "vYM0LyxxdElN"
      }
    },
    {
      "cell_type": "code",
      "source": [
        "def merge_lists(list1, list2):\n",
        "    merged_list = []\n",
        "    for item in list1:\n",
        "        merged_list.append(item)\n",
        "    for item in list2:\n",
        "        merged_list.append(item)\n",
        "    return merged_list\n",
        "\n",
        "\n",
        "list1 = [1, 2, 3]\n",
        "list2 = [4, 5, 6]\n",
        "result = merge_lists(list1, list2)\n",
        "print(result)\n"
      ],
      "metadata": {
        "id": "CRvhHTjCdvjS",
        "colab": {
          "base_uri": "https://localhost:8080/"
        },
        "outputId": "06adf1ad-9b0d-4721-cf21-c35594848629"
      },
      "execution_count": null,
      "outputs": [
        {
          "output_type": "stream",
          "name": "stdout",
          "text": [
            "[1, 2, 3, 4, 5, 6]\n"
          ]
        }
      ]
    },
    {
      "cell_type": "markdown",
      "source": [
        "# Задание 4\n",
        "\n",
        "Напишите функцию(ии) для подсчета статистических параметров:\n",
        "*   Сумму\n",
        "*   Среднее арифметическое\n",
        "*   Медиану\n",
        "*   Моду\n",
        "\n",
        "\n",
        "*Запрещено:*\n",
        "\n",
        "*   sum()\n",
        "*   sorted()\n",
        "*   и других функции предоставляющих готовое решение задания\n",
        "\n",
        "Дано:\n",
        "\n",
        "```\n",
        "numbers = [1, 2, 2, 3, 4, 5, 6, 7, 8 ,9 ,10]\n",
        "\n",
        "```\n",
        "\n",
        "Вывод:\n",
        "```\n",
        "{'mean': 5.181818181818182, 'median': 5, 'mode': 2, 'sum': 57}\n",
        "```\n"
      ],
      "metadata": {
        "id": "L_w8H8i-fQcP"
      }
    },
    {
      "cell_type": "code",
      "source": [
        "def statistic_sum(numbers):\n",
        "    result=0\n",
        "\n",
        "    for number in numbers:\n",
        "        result += number\n",
        "\n",
        "    return result\n",
        "\n",
        "\n",
        "def mean(numbers):\n",
        "    result=0\n",
        "\n",
        "    for number in numbers:\n",
        "        result += number\n",
        "\n",
        "    return result/len(numbers)\n",
        "\n",
        "\n",
        "def median_sorted(lst):\n",
        "    n = len(lst)\n",
        "    if n % 2 == 1:\n",
        "        return lst[n // 2]\n",
        "    else:\n",
        "        mid1 = lst[n // 2 - 1]\n",
        "        mid2 = lst[n // 2]\n",
        "        return (mid1 + mid2) / 2\n",
        "\n",
        "\n",
        "def moda(numbers):\n",
        "    def most_frequent_element(lst):\n",
        "\n",
        "    frequency_dict = {}\n",
        "\n",
        "\n",
        "    for item in lst:\n",
        "        if item in frequency_dict:\n",
        "            frequency_dict[item] += 1\n",
        "        else:\n",
        "            frequency_dict[item] = 1\n",
        "\n",
        "\n",
        "    max_frequency = -1\n",
        "    most_frequent = None\n",
        "\n",
        "    for key, value in frequency_dict.items():\n",
        "        if value > max_frequency:\n",
        "            max_frequency = value\n",
        "            most_frequent = key\n",
        "\n",
        "    return most_frequent\n",
        "\n",
        "\n",
        "\n",
        "\n",
        "numbers = [1, 2, 2, 3, 4, 5, 6, 7, 8 ,9 ,10]\n",
        "print(median_sorted(numbers))\n",
        "\n",
        "\n"
      ],
      "metadata": {
        "id": "dW6jW_rjfuba",
        "colab": {
          "base_uri": "https://localhost:8080/"
        },
        "outputId": "f797e5d2-f10e-4863-c7c8-6f47dd722e1d"
      },
      "execution_count": null,
      "outputs": [
        {
          "output_type": "stream",
          "name": "stdout",
          "text": [
            "5\n"
          ]
        }
      ]
    },
    {
      "cell_type": "markdown",
      "source": [
        "# Задание 5\n",
        "\n",
        "На ввод поступает строка символов. Строка состоит из слов, которые отделены друг от друга пробелами. Необходимо вывести самое длинное слово и его порядковый номер.\n",
        "\n",
        "*Запрещено:*\n",
        "\n",
        "*   len()\n",
        "\n",
        "Дано:\n",
        "\n",
        "```\n",
        "Страдание и боль всегда обязательны для широкого сознания и глубокого сердца.\n",
        "\n",
        "```\n",
        "\n",
        "Вывод:\n",
        "```\n",
        "Самое длинное слово с номером 5: обязательны\n",
        "```"
      ],
      "metadata": {
        "id": "hZW0NZ7SgTcp"
      }
    },
    {
      "cell_type": "code",
      "source": [
        "def long_word(sentence):\n",
        "\n",
        "    position = 0\n",
        "    num=0\n",
        "    previous=\"\"\n",
        "    i=0\n",
        "    sentence= sentence.split()\n",
        "\n",
        "    for word in sentence:\n",
        "        if foo(word)>num:\n",
        "           num=foo(word)\n",
        "           previous=word\n",
        "           position=i+1\n",
        "        i+=1\n",
        "\n",
        "    return [position, previous]\n",
        "\n",
        "\n",
        "def foo(s):\n",
        "   cnt = 0\n",
        "   for _ in s:\n",
        "      cnt += 1\n",
        "   return cnt\n",
        "\n",
        "\n",
        "sentence= \"Страдание и боль всегда обязательны для широкого  сознания и глубокого сердца.\"\n",
        "function_result= long_word(sentence)\n",
        "print(f\"Самое длинное слово под номером {function_result[0]}: {function_result[1]}\")"
      ],
      "metadata": {
        "id": "rC5DpHHLsDYp",
        "colab": {
          "base_uri": "https://localhost:8080/"
        },
        "outputId": "abf86953-e18f-43fd-f58f-47b762bb8d2c"
      },
      "execution_count": null,
      "outputs": [
        {
          "output_type": "stream",
          "name": "stdout",
          "text": [
            "Самое длинное слово под номером 5: обязательны\n"
          ]
        }
      ]
    },
    {
      "cell_type": "markdown",
      "source": [
        "# Задание 6\n",
        "\n",
        "Напишите программу, для управления оценками студентов, со следующими функциями:\n",
        "\n",
        "* Добавление информации о студенте и его оценках.\n",
        "* Подсчет среднего балла студента.\n",
        "* Получение списка всех студентов с их средними баллами.\n",
        "* Поиск студента по имени и вывод его оценок и среднего балла.\n",
        "\n",
        "\n",
        "\n"
      ],
      "metadata": {
        "id": "k5BzJW5ZeaQN"
      }
    },
    {
      "cell_type": "code",
      "source": [
        "students = {}\n",
        "\n",
        "def add_student(name):\n",
        "    if name not in students:\n",
        "        students[name] = []\n",
        "\n",
        "def add_grade(name, grade):\n",
        "    if name in students:\n",
        "        students[name].append(grade)\n",
        "\n",
        "def calculate_average(name):\n",
        "    grades = students.get(name, [])\n",
        "    return sum(grades) / len(grades) if grades else 0\n",
        "\n",
        "def get_all_students_averages():\n",
        "    return {name: calculate_average(name) for name in students}\n",
        "\n",
        "def find_student(name):\n",
        "    if name in students:\n",
        "        grades = students[name]\n",
        "        return {'name': name, 'grades': grades, 'average': calculate_average(name)}\n",
        "    return None\n",
        "\n",
        "\n",
        "add_student(\"Иван\")\n",
        "add_grade(\"Иван\", 5)\n",
        "add_grade(\"Иван\", 4)\n",
        "add_grade(\"Иван\", 3)\n",
        "\n",
        "add_student(\"Мария\")\n",
        "add_grade(\"Мария\", 4)\n",
        "add_grade(\"Мария\", 5)\n",
        "\n",
        "print(calculate_average(\"Иван\"))\n",
        "print(get_all_students_averages())\n",
        "print(find_student(\"Мария\"))\n"
      ],
      "metadata": {
        "id": "cvhlltVbdyoL",
        "colab": {
          "base_uri": "https://localhost:8080/"
        },
        "outputId": "854348ef-a13e-4f85-a5f9-cdd2e0da8917"
      },
      "execution_count": null,
      "outputs": [
        {
          "output_type": "stream",
          "name": "stdout",
          "text": [
            "4.0\n",
            "{'Иван': 4.0, 'Мария': 4.5}\n",
            "{'name': 'Мария', 'grades': [4, 5], 'average': 4.5}\n"
          ]
        }
      ]
    },
    {
      "cell_type": "markdown",
      "source": [
        "# Задание 7\n",
        "\n",
        "\n",
        "**Задача:**\n",
        "\n",
        "Создайте приложение-викторину с командной строкой, которое задает пользователям вопросы по различным темам и отслеживает их результаты.\n",
        "\n",
        "Ключевые особенности:\n",
        "\n",
        "*   Хранение данных о вопросах и ответах на них, а также баллов за каждый вопрос\n",
        "*   Реализуйте функцию для представления вопросов, принятия ответов пользователей и предоставления обратной связи о том, являются ли ответы правильными или неправильными.\n",
        "*  После завершения викторины отобразите общий балл пользователя из числа ответов на вопросы.\n",
        "*  Реализуйте функцию добавления нового вопроса\n",
        "*  Реализуйте функцию перемешивания вопросов, для отображения случайного вопроса\n"
      ],
      "metadata": {
        "id": "iQ8Z-7PYgu1_"
      }
    },
    {
      "cell_type": "code",
      "source": [
        "import random\n",
        "\n",
        "questions = []\n",
        "\n",
        "def add_question(question_text, correct_answer, points):\n",
        "    questions.append({\n",
        "        'question': question_text,\n",
        "        'answer': correct_answer.lower(),\n",
        "        'points': points\n",
        "    })\n",
        "\n",
        "def ask_question(question):\n",
        "    print(\"Вопрос:\", question['question'])\n",
        "    user_answer = input(\"Ваш ответ: \").strip().lower()\n",
        "    if user_answer == question['answer']:\n",
        "        print(\"Правильно!\")\n",
        "        return question['points']\n",
        "    else:\n",
        "        print(\"Неправильно. Правильный ответ:\", question['answer'])\n",
        "        return 0\n",
        "\n",
        "def start_quiz():\n",
        "    total_score = 0\n",
        "    random.shuffle(questions)\n",
        "    for question in questions:\n",
        "        total_score += ask_question(question)\n",
        "    print(\"Викторина завершена!\")\n",
        "    print(\"Ваш итоговый балл:\", total_score)\n",
        "\n",
        "# Пример использования\n",
        "add_question(\"Сколько будет 2 + 2?\", \"4\", 10)\n",
        "add_question(\"Какой цвет у неба?\", \"синий\", 5)\n",
        "add_question(\"Сколько дней в неделе?\", \"7\", 10)\n",
        "\n",
        "start_quiz()\n"
      ],
      "metadata": {
        "id": "DhxyYwHwh2V4",
        "colab": {
          "base_uri": "https://localhost:8080/"
        },
        "outputId": "117febcf-c456-4164-a3bb-786fe38287b8"
      },
      "execution_count": null,
      "outputs": [
        {
          "output_type": "stream",
          "name": "stdout",
          "text": [
            "Вопрос: Какой цвет у неба?\n",
            "Ваш ответ: синий\n",
            "Правильно!\n",
            "Вопрос: Сколько дней в неделе?\n",
            "Ваш ответ: 2\n",
            "Неправильно. Правильный ответ: 7\n",
            "Вопрос: Сколько будет 2 + 2?\n",
            "Ваш ответ: 4\n",
            "Правильно!\n",
            "Викторина завершена!\n",
            "Ваш итоговый балл: 15\n"
          ]
        }
      ]
    }
  ]
}