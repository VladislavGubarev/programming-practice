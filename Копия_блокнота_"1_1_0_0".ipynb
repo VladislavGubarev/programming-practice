{
  "nbformat": 4,
  "nbformat_minor": 0,
  "metadata": {
    "colab": {
      "provenance": [],
      "include_colab_link": true
    },
    "kernelspec": {
      "name": "python3",
      "display_name": "Python 3"
    },
    "language_info": {
      "name": "python"
    }
  },
  "cells": [
    {
      "cell_type": "markdown",
      "metadata": {
        "id": "view-in-github",
        "colab_type": "text"
      },
      "source": [
        "<a href=\"https://colab.research.google.com/github/VladislavGubarev/programming-practice/blob/main/%D0%9A%D0%BE%D0%BF%D0%B8%D1%8F_%D0%B1%D0%BB%D0%BE%D0%BA%D0%BD%D0%BE%D1%82%D0%B0_%221_1_0_0%22.ipynb\" target=\"_parent\"><img src=\"https://colab.research.google.com/assets/colab-badge.svg\" alt=\"Open In Colab\"/></a>"
      ]
    },
    {
      "cell_type": "markdown",
      "source": [
        "**ФИО:**"
      ],
      "metadata": {
        "id": "GEsFKJm-ABFp"
      }
    },
    {
      "cell_type": "code",
      "execution_count": null,
      "metadata": {
        "id": "wZMLYG_G_-19"
      },
      "outputs": [],
      "source": []
    },
    {
      "cell_type": "markdown",
      "source": [
        "# Задание 1"
      ],
      "metadata": {
        "id": "H4DrYnJjADuZ"
      }
    },
    {
      "cell_type": "markdown",
      "source": [
        "**Описание:** Создайте иерархию классов для разных типов сотрудников в компании. Реализуйте родительский класс Employee и дочерние классы Manager и Developer. Каждый класс должен иметь метод для расчета зарплаты на основе различных критериев класса.\n",
        "\n",
        "\n",
        "Отрабатываемый принцип: Наследование\n",
        "\n"
      ],
      "metadata": {
        "id": "C17FWep-AF4a"
      }
    },
    {
      "cell_type": "code",
      "source": [
        "class Employee:\n",
        "    def __init__(self, name, base_salary):\n",
        "        self.name = name\n",
        "        self.base_salary = base_salary\n",
        "\n",
        "\n",
        "    def calculate_salary(self):\n",
        "        return self.base_salary\n",
        "\n",
        "\n",
        "    def __str__(self):\n",
        "        return f'Employee: {self.name}, Base Salary: {self.base_salary}'\n",
        "\n",
        "\n",
        "class Manager(Employee):\n",
        "    def __init__(self, name, base_salary, bonus):\n",
        "        super().__init__(name, base_salary)\n",
        "        self.bonus = bonus\n",
        "\n",
        "\n",
        "    def calculate_salary(self):\n",
        "        return self.base_salary + self.bonus\n",
        "\n",
        "\n",
        "    def __str__(self):\n",
        "        return f'Manager: {self.name}, Base Salary: {self.base_salary}, Bonus: {self.bonus}'\n",
        "\n",
        "\n",
        "class Developer(Employee):\n",
        "    def __init__(self, name, base_salary, projects_completed):\n",
        "        super().__init__(name, base_salary)\n",
        "        self.projects_completed = projects_completed\n",
        "\n",
        "\n",
        "    def calculate_salary(self):\n",
        "        project_bonus = 500 * self.projects_completed\n",
        "        return self.base_salary + project_bonus\n",
        "\n",
        "\n",
        "    def __str__(self):\n",
        "        return f'Developer: {self.name}, Base Salary: {self.base_salary}, Projects Completed: {self.projects_completed}'\n",
        "\n",
        "\n",
        "if __name__ == '__main__':\n",
        "    manager = Manager('name1', 70000, 10000)\n",
        "    developer = Developer('name2', 60000, 5)\n",
        "    print(manager)\n",
        "    print(f\"Manager's Salary: {manager.calculate_salary()}\")\n",
        "    print(developer)\n",
        "    print(f\"Developer's Salary: {developer.calculate_salary()}\")\n"
      ],
      "metadata": {
        "id": "aexGXzqCAFH7",
        "colab": {
          "base_uri": "https://localhost:8080/"
        },
        "outputId": "0e2bd542-80ef-448b-ad92-b79993767702"
      },
      "execution_count": null,
      "outputs": [
        {
          "output_type": "stream",
          "name": "stdout",
          "text": [
            "Manager: name1, Base Salary: 70000, Bonus: 10000\n",
            "Manager's Salary: 80000\n",
            "Developer: name2, Base Salary: 60000, Projects Completed: 5\n",
            "Developer's Salary: 62500\n"
          ]
        }
      ]
    },
    {
      "cell_type": "markdown",
      "source": [
        "# Задание 2"
      ],
      "metadata": {
        "id": "ERAi0TG5BI6v"
      }
    },
    {
      "cell_type": "markdown",
      "source": [
        "**Описание:** Создайте иерархию классов для различных типов транспортных средств (Необходим один родительский класс и 3 дочерних). Реализуйте метод, который позволяет каждому транспортному средству возвращать собственное описание (Метод в каждом классе должен иметь одинаковое название). Продемонстрируйте вызов данного метода для каждого транспортного средства.\n",
        "\n",
        "\n",
        "Отрабатываемый принцип: Полиморфизм"
      ],
      "metadata": {
        "id": "sJ3k7ZcgBK87"
      }
    },
    {
      "cell_type": "code",
      "source": [
        "class Transport:\n",
        "    def get_description(self):\n",
        "        return 'Это транспортное средство.'\n",
        "\n",
        "class Car(Transport):\n",
        "    def get_description(self):\n",
        "        return 'Это автомобиль. Он предназначен для перевозки людей и грузов.'\n",
        "\n",
        "class Bicycle(Transport):\n",
        "    def get_description(self):\n",
        "        return 'Это велосипед. Он работает за счет силы человека и предназначен для индивидуальной перевозки.'\n",
        "\n",
        "class Truck(Transport):\n",
        "    def get_description(self):\n",
        "        return 'Это грузовик. Он используется для перевозки больших объемов грузов.'\n",
        "\n",
        "\n",
        "def main():\n",
        "    vehicles = [Car(), Bicycle(), Truck()]\n",
        "    for vehicle in vehicles:\n",
        "        print(vehicle.get_description())\n",
        "\n",
        "if __name__ == '__main__':\n",
        "    main()\n"
      ],
      "metadata": {
        "id": "WOFOZQmDBKf4"
      },
      "execution_count": null,
      "outputs": []
    },
    {
      "cell_type": "markdown",
      "source": [
        "# Задание 3"
      ],
      "metadata": {
        "id": "7E_SJXMJBvD4"
      }
    },
    {
      "cell_type": "markdown",
      "source": [
        "Онлайн-магазин:\n",
        "- Создайте модель для онлайн-магазина с классами Product, Order, Customer, и ShoppingCart.\n",
        "- Product включает информацию о цене, наличии на складе и категории товара.\n",
        "Order обрабатывает процесс покупки, включая расчет цены с учетом скидок и налогов.\n",
        "- Customer управляет информацией о пользователе и его истории заказов.\n",
        "- ShoppingCart позволяет добавлять, удалять и обновлять количество товаров перед оформлением заказа.\n"
      ],
      "metadata": {
        "id": "dd1mwKj_BxHa"
      }
    },
    {
      "cell_type": "code",
      "source": [
        "class Product:\n",
        "    def __init__(self, name, price, stock, category):\n",
        "        self.name = name\n",
        "        self.price = price\n",
        "        self.stock = stock\n",
        "        self.category = category\n",
        "\n",
        "\n",
        "    def is_in_stock(self, quantity):\n",
        "        return self.stock >= quantity\n",
        "\n",
        "\n",
        "    def reduce_stock(self, quantity):\n",
        "        if self.is_in_stock(quantity):\n",
        "            self.stock -= quantity\n",
        "        else:\n",
        "            raise ValueError('Not enough stock available.')\n",
        "\n",
        "class Order:\n",
        "    def __init__(self, customer):\n",
        "        self.customer = customer\n",
        "        self.items = []\n",
        "        self.total_price = 0.0\n",
        "\n",
        "    def add_item(self, product, quantity):\n",
        "        if product.is_in_stock(quantity):\n",
        "            product.reduce_stock(quantity)\n",
        "            self.items.append((product, quantity))\n",
        "            self.calculate_total()\n",
        "        else:\n",
        "            raise ValueError('Not enough stock for product: {}'.format(product.name))\n",
        "\n",
        "    def calculate_total(self):\n",
        "        self.total_price = sum(product.price * quantity for product, quantity in self.items)\n",
        "\n",
        "    def apply_discount(self, discount_percentage):\n",
        "        discount_amount = (self.total_price * discount_percentage) / 100\n",
        "        self.total_price -= discount_amount\n",
        "\n",
        "    def calculate_tax(self, tax_percentage):\n",
        "        tax_amount = (self.total_price * tax_percentage) / 100\n",
        "        self.total_price += tax_amount\n",
        "\n",
        "class Customer:\n",
        "    def __init__(self, name, email):\n",
        "        self.name = name\n",
        "        self.email = email\n",
        "        self.order_history = []\n",
        "\n",
        "    def add_order(self, order):\n",
        "        self.order_history.append(order)\n",
        "\n",
        "class ShoppingCart:\n",
        "    def __init__(self):\n",
        "        self.items = {}\n",
        "\n",
        "    def add_product(self, product, quantity):\n",
        "        if product.is_in_stock(quantity):\n",
        "            if product in self.items:\n",
        "                self.items[product] += quantity\n",
        "            else:\n",
        "                self.items[product] = quantity\n",
        "        else:\n",
        "            raise ValueError('Not enough stock for product: {}'.format(product.name))\n",
        "\n",
        "    def remove_product(self, product):\n",
        "        if product in self.items:\n",
        "            del self.items[product]\n",
        "        else:\n",
        "            raise ValueError('Product not in cart: {}'.format(product.name))\n",
        "\n",
        "    def update_quantity(self, product, quantity):\n",
        "        if product in self.items:\n",
        "            if product.is_in_stock(quantity):\n",
        "                self.items[product] = quantity\n",
        "            else:\n",
        "                raise ValueError('Not enough stock for product: {}'.format(product.name))\n",
        "        else:\n",
        "            raise ValueError('Product not in cart: {}'.format(product.name))\n",
        "\n",
        "    def clear_cart(self):\n",
        "        self.items.clear()\n",
        "\n",
        "    def view_cart(self):\n",
        "        return [(product.name, quantity) for product, quantity in self.items.items()]\n",
        "\n",
        "\n",
        "if __name__ == '__main__':\n",
        "    product1 = Product('Laptop', 1200.00, 10, 'Electronics')\n",
        "    product2 = Product('Headphones', 150.00, 20, 'Accessories')\n",
        "    customer = Customer('name1', 'example@gmail.com')\n",
        "\n",
        "    cart = ShoppingCart()\n",
        "    cart.add_product(product1, 1)\n",
        "    cart.add_product(product2, 2)\n",
        "    order = Order(customer)\n",
        "    for product, quantity in cart.items.items():\n",
        "        order.add_item(product, quantity)\n",
        "\n",
        "    order.apply_discount(10)\n",
        "    order.calculate_tax(5)\n",
        "    customer.add_order(order)\n",
        "    print(f'Total price for the order: ${order.total_price:.2f}')\n"
      ],
      "metadata": {
        "id": "wkCcv_K-Bwdv"
      },
      "execution_count": null,
      "outputs": []
    },
    {
      "cell_type": "markdown",
      "source": [
        "# Задание 4"
      ],
      "metadata": {
        "id": "ih7iPlYfB7lL"
      }
    },
    {
      "cell_type": "markdown",
      "source": [
        "Симулятор космического корабля:\n",
        "- Создайте симулятор управления космическим кораблем с классами SpaceShip, CrewMember, и Mission.\n",
        "- SpaceShip имеет атрибуты для управления топливом, состоянием корпуса, и текущей скоростью.\n",
        "- CrewMember контролирует здоровье, навыки, и роли в команде (например, пилот, инженер).\n",
        "- Mission определяет цели, ресурсы, и возможные события (например, аварии, встречи с астероидами)."
      ],
      "metadata": {
        "id": "zLwqVCbpCBvc"
      }
    },
    {
      "cell_type": "code",
      "source": [
        "import random\n",
        "\n",
        "class SpaceShip:\n",
        "    def __init__(self, fuel, hull_integrity, speed):\n",
        "        self.fuel = fuel\n",
        "        self.hull_integrity = hull_integrity\n",
        "        self.speed = speed\n",
        "\n",
        "\n",
        "    def fly(self, distance):\n",
        "        fuel_needed = distance * self.speed * 0.1\n",
        "        if fuel_needed > self.fuel:\n",
        "            print('Недостаточно топлива для полета.')\n",
        "            return False\n",
        "        self.fuel -= fuel_needed\n",
        "        print(f'Корабль успешно пролетел {distance} км.')\n",
        "        return True\n",
        "\n",
        "\n",
        "    def repair(self, amount):\n",
        "        if amount + self.hull_integrity > 100:\n",
        "            amount = 100 - self.hull_integrity\n",
        "        self.hull_integrity += amount\n",
        "        print(f'Корабль отремонтирован на {amount}%. Текущее состояние корпуса: {self.hull_integrity}%.')\n",
        "\n",
        "\n",
        "    def status(self):\n",
        "        print(f'Топливо: {self.fuel}, Состояние корпуса: {self.hull_integrity}%, Скорость: {self.speed} км/ч')\n",
        "\n",
        "\n",
        "class CrewMember:\n",
        "    def __init__(self, name, role, health=100, skills=None):\n",
        "        self.name = name\n",
        "        self.role = role\n",
        "        self.health = health\n",
        "        self.skills = skills if skills is not None else []\n",
        "\n",
        "\n",
        "    def take_damage(self, damage):\n",
        "        self.health -= damage\n",
        "        if self.health < 0:\n",
        "            self.health = 0\n",
        "        print(f'{self.name} получил урон. Текущее здоровье: {self.health}.')\n",
        "\n",
        "\n",
        "    def heal(self, amount):\n",
        "        if self.health + amount > 100:\n",
        "            amount = 100 - self.health\n",
        "        self.health += amount\n",
        "        print(f'{self.name} исцелён на {amount}. Текущее здоровье: {self.health}.')\n",
        "\n",
        "\n",
        "    def status(self):\n",
        "        print(f'Имя: {self.name}, Роль: {self.role}, Здоровье: {self.health}, Навыки: {', '.join(self.skills)}')\n",
        "\n",
        "\n",
        "class Mission:\n",
        "    def __init__(self, objectives, resources):\n",
        "        self.objectives = objectives\n",
        "        self.resources = resources\n",
        "        self.events = ['Авария', 'Встреча с астероидом', 'Появление космического корабля']\n",
        "\n",
        "\n",
        "    def start_mission(self):\n",
        "        print('Миссия началась')\n",
        "        for objective in self.objectives:\n",
        "            print(f'Цель: {objective}')\n",
        "            if random.random() < 0.3:\n",
        "                event = random.choice(self.events)\n",
        "                print(f'Случилось: {event}')\n",
        "                if event == 'Авария':\n",
        "                    return 'Миссия провалена из-за аварии'\n",
        "                elif event == 'Встреча с астероидом':\n",
        "                    return'Миссия провалена из-за столкновения с астероидом'\n",
        "                elif event == 'Появление космического корабля':\n",
        "                    return 'Встреча с другим кораблем. Миссия завершена успешно'\n",
        "        return 'Все цели выполнены. Миссия завершена успешно'\n",
        "\n",
        "\n",
        "if __name__ == '__main__':\n",
        "    spaceship = SpaceShip(fuel=1000, hull_integrity=80, speed=300)\n",
        "    crew_member1 = CrewMember(name='Алекс', role='Пилот', skills=['Навигация', 'Стратегия'])\n",
        "    crew_member2 = CrewMember(name='Мария', role='Инженер', skills=['Ремонт', 'Энергетика'])\n",
        "    spaceship.status()\n",
        "    crew_member1.status()\n",
        "    crew_member2.status()\n",
        "    mission = Mission(objectives=['Достигнуть орбиты планеты', 'Собрать образцы', 'Вернуться на Землю'], resources={'Топливо': 500})\n",
        "    if spaceship.fly(1500):\n",
        "        result = mission.start_mission()\n",
        "        print(result)\n",
        "\n",
        "    spaceship.repair(10)\n",
        "    spaceship.status()\n"
      ],
      "metadata": {
        "id": "4NyrOOy8B9ED"
      },
      "execution_count": null,
      "outputs": []
    },
    {
      "cell_type": "markdown",
      "source": [
        "# Дополнительно:"
      ],
      "metadata": {
        "id": "F7mRVsZjCXk0"
      }
    },
    {
      "cell_type": "markdown",
      "source": [
        "**Описание:** создайте консольную версию игры крестики-нолики, используя классы"
      ],
      "metadata": {
        "id": "X4Lkf86UCc1h"
      }
    },
    {
      "cell_type": "code",
      "source": [],
      "metadata": {
        "id": "x9OxpNsyCcUo"
      },
      "execution_count": null,
      "outputs": []
    }
  ]
}