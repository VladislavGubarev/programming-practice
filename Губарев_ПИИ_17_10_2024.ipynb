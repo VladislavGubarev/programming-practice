{
  "nbformat": 4,
  "nbformat_minor": 0,
  "metadata": {
    "colab": {
      "provenance": [],
      "include_colab_link": true
    },
    "kernelspec": {
      "name": "python3",
      "display_name": "Python 3"
    },
    "language_info": {
      "name": "python"
    }
  },
  "cells": [
    {
      "cell_type": "markdown",
      "metadata": {
        "id": "view-in-github",
        "colab_type": "text"
      },
      "source": [
        "<a href=\"https://colab.research.google.com/github/VladislavGubarev/programming-practice/blob/main/%D0%93%D1%83%D0%B1%D0%B0%D1%80%D0%B5%D0%B2_%D0%9F%D0%98%D0%98_17_10_2024.ipynb\" target=\"_parent\"><img src=\"https://colab.research.google.com/assets/colab-badge.svg\" alt=\"Open In Colab\"/></a>"
      ]
    },
    {
      "cell_type": "markdown",
      "source": [
        "ФИО:"
      ],
      "metadata": {
        "id": "Bu5gIJfHNPHw"
      }
    },
    {
      "cell_type": "code",
      "execution_count": null,
      "metadata": {
        "id": "CbHI8c7cM9Eg"
      },
      "outputs": [],
      "source": [
        "Губарев Владислав"
      ]
    },
    {
      "cell_type": "markdown",
      "source": [
        "# **Задание 1**"
      ],
      "metadata": {
        "id": "VrNrBpmocGRd"
      }
    },
    {
      "cell_type": "markdown",
      "source": [
        "\n",
        "\n",
        "Дан словарь, содержащий имена и возраст людей, напишите программу выводящую возраст человека по имени\n",
        "\n",
        "Дано:\n",
        "\n",
        "```\n",
        "{\"Alice\": 25, \"Bob\": 30, \"Charlie\": 35}\n",
        "```\n",
        "\n",
        "Вввод:\n",
        "\n",
        "\n",
        "```\n",
        "Alice\n",
        "```\n",
        "\n",
        "Вывод:\n",
        "\n",
        "\n",
        "```\n",
        "Alice 25\n",
        "```\n"
      ],
      "metadata": {
        "id": "XhV1bnm1bR2h"
      }
    },
    {
      "cell_type": "code",
      "source": [
        "name=input(\"Введите имя человека \")\n",
        "names_dict={\"Alice\": 25, \"Bob\": 30, \"Charlie\": 35}\n",
        "print(f\"{name} {names_dict[name]}\")"
      ],
      "metadata": {
        "id": "PElJj6DvsgjD",
        "colab": {
          "base_uri": "https://localhost:8080/"
        },
        "outputId": "52aed5c7-6ae9-41c3-c5b0-4fd8e116ee01"
      },
      "execution_count": null,
      "outputs": [
        {
          "output_type": "stream",
          "name": "stdout",
          "text": [
            "Введите имя человекаAlice\n",
            "Alice 25\n"
          ]
        }
      ]
    },
    {
      "cell_type": "markdown",
      "source": [
        "# **Задание 2**\n"
      ],
      "metadata": {
        "id": "lpjJz-_YcJ-t"
      }
    },
    {
      "cell_type": "markdown",
      "source": [
        "\n",
        "\n",
        "1.   Новый пункт\n",
        "\n",
        "1.   Новый пункт\n",
        "2.   Новый пункт\n",
        "\n",
        "\n",
        "2.   Новый пункт\n",
        "\n",
        "\n",
        "\n",
        "Дан список, состоящий из целых чисел, необходимо написать функцию считающую сумму всех положительных четных чисел списка\n",
        "\n",
        "Ввод:\n",
        "\n",
        "```\n",
        "1, 2, 3, 4, 5, 6, 7, 8, 9\n",
        "```\n",
        "\n",
        "Вывод:\n",
        "\n",
        "\n",
        "```\n",
        "20\n",
        "```\n",
        "\n",
        "***Запрещено:***\n",
        "\n",
        "*   Использование готовых функций для суммирования чисел\n"
      ],
      "metadata": {
        "id": "tMEsAB4rUiWW"
      }
    },
    {
      "cell_type": "code",
      "source": [
        "def positive_numbers(numbers_list):\n",
        "  sum=0\n",
        "  for number in numbers_list:\n",
        "    if(int(number)>0 and int(number)%2==0):\n",
        "      sum=sum+int(number)\n",
        "  return sum\n",
        "\n",
        "\n",
        "numbers_list= input(\"Введите список чисел через запятую \").split(', ')\n",
        "print(positive_numbers(numbers_list))"
      ],
      "metadata": {
        "id": "wDNUFLeqNQS_",
        "colab": {
          "base_uri": "https://localhost:8080/"
        },
        "outputId": "9b998446-60e4-4079-ee5c-041f654e7208"
      },
      "execution_count": null,
      "outputs": [
        {
          "output_type": "stream",
          "name": "stdout",
          "text": [
            "Введите список чисел через запятую 1, 2, 3, 4, 5, 6, 7, 8, 9\n",
            "20\n"
          ]
        }
      ]
    },
    {
      "cell_type": "markdown",
      "source": [
        "# **Задание 3**"
      ],
      "metadata": {
        "id": "WT_v-vz1dUZJ"
      }
    },
    {
      "cell_type": "markdown",
      "source": [
        "Дан словарь, содержащий название фрукта и его цвет, выведите список всех желтых фруктов\n",
        "\n",
        "\n",
        "Дано:\n",
        "\n",
        "```\n",
        "fruits_and_colors = {\n",
        "    \"apple\": \"red\",\n",
        "    \"banana\": \"yellow\",\n",
        "    \"mango\": \"yellow\",\n",
        "    \"orange\": \"orange\",\n",
        "    \"lemon\": \"yellow\",\n",
        "    \"grape\": \"purple\"\n",
        "}\n",
        "```\n",
        "\n",
        "Вывод:\n",
        "\n",
        "\n",
        "```\n",
        "Yellow fruits:\n",
        "banana\n",
        "lemon\n",
        "mango\n",
        "```\n",
        "\n"
      ],
      "metadata": {
        "id": "ZI5Xeh2DdXgF"
      }
    },
    {
      "cell_type": "code",
      "source": [
        "fruits_and_colors = {\n",
        "    \"apple\": \"red\",\n",
        "    \"banana\": \"yellow\",\n",
        "    \"mango\": \"yellow\",\n",
        "    \"orange\": \"orange\",\n",
        "    \"lemon\": \"yellow\",\n",
        "    \"grape\": \"purple\"\n",
        "}\n",
        "fruit_yellow=[]\n",
        "for fruit,color in fruits_and_colors.items():\n",
        "  if(color==\"yellow\"):\n",
        "    fruit_yellow.append(fruit)\n",
        "\n",
        "print(f\"Yellow color:\\n{fruit_yellow}\")\n"
      ],
      "metadata": {
        "id": "aNzFTkhKdkTG",
        "colab": {
          "base_uri": "https://localhost:8080/"
        },
        "outputId": "3b4edb46-77df-4b5d-c09c-66a03a03adef"
      },
      "execution_count": null,
      "outputs": [
        {
          "output_type": "stream",
          "name": "stdout",
          "text": [
            "Yellow color:\n",
            "['banana', 'mango', 'lemon']\n"
          ]
        }
      ]
    },
    {
      "cell_type": "markdown",
      "source": [
        "# **Задание 4**\n"
      ],
      "metadata": {
        "id": "iHtMGt2icM7w"
      }
    },
    {
      "cell_type": "markdown",
      "source": [
        "\n",
        "\n",
        "Дан словарь, необходимо написать функцию меняющую ключ и значение местами\n",
        "\n",
        "Дано:\n",
        "\n",
        "\n",
        "```\n",
        "{\"a\": 1, \"b\": 2, \"c\": 3}\n",
        "```\n",
        "\n",
        "Вывод:\n",
        "\n",
        "```\n",
        "{1: 'a', 2: 'b', 3: 'c'}\n",
        "```\n",
        "\n"
      ],
      "metadata": {
        "id": "rS3THsnBQ_EB"
      }
    },
    {
      "cell_type": "code",
      "source": [
        "random_dict = {\"a\": 1, \"b\": 2, \"c\": 3}\n",
        "inverted_dict = {v: k for k, v in random_dict.items()}\n",
        "print(inverted_dict)"
      ],
      "metadata": {
        "id": "MNRusyLDcQ59",
        "colab": {
          "base_uri": "https://localhost:8080/"
        },
        "outputId": "352498d2-904a-4425-b377-d3859b125f6b"
      },
      "execution_count": null,
      "outputs": [
        {
          "output_type": "stream",
          "name": "stdout",
          "text": [
            "{1: 'a', 2: 'b', 3: 'c'}\n"
          ]
        }
      ]
    },
    {
      "cell_type": "markdown",
      "source": [
        "# **Задание 5**"
      ],
      "metadata": {
        "id": "x6ff5nd0cUxD"
      }
    },
    {
      "cell_type": "markdown",
      "source": [
        "Дан список слов, неограниченной длинны, сформируйте словарь, где в качестве ключа будет слово, а в качестве значения количество слов\n",
        "\n",
        "**Критерии**\n",
        "\n",
        "\n",
        "*   Словарь необходимо отсортировать по убыванию количества элементов в списке.\n",
        "*   Подсчет элементов должен быть реализован в отдельной функции\n",
        "*   Сортировка пары `ключ:значение` должна быть реализована также в виде отдельной функции\n",
        "\n",
        "\n",
        "\n",
        "\n",
        "Дано:\n",
        "```\n",
        "['apple','banana','orange','apple','apple','banana']\n",
        "```\n",
        "\n",
        "\n",
        "Вывод:\n",
        "```\n",
        "{'apple':3, 'banana': 2, 'orange': 1}\n",
        "```\n",
        "\n",
        "***Запрещено:***\n",
        "\n",
        "*   Использование готовых функций для сортировки\n",
        "*   Использование готовых функций для подсчета элементов\n",
        "\n"
      ],
      "metadata": {
        "id": "ypQNHOG4NQz3"
      }
    },
    {
      "cell_type": "code",
      "source": [
        "def custom_count_words(word_list):\n",
        "\n",
        "    word_count = {}\n",
        "    for word in word_list:\n",
        "        found = False\n",
        "        for key in word_count:\n",
        "            if key == word:\n",
        "                word_count[key] += 1\n",
        "                found = True\n",
        "                break\n",
        "        if not found:\n",
        "            word_count[word] = 1\n",
        "    return word_count\n",
        "\n",
        "\n",
        "def custom_sort_dict(word_count):\n",
        "\n",
        "    items = []\n",
        "\n",
        "    for key in word_count:\n",
        "        items.append((key, word_count[key]))\n",
        "\n",
        "\n",
        "    n = len(items)\n",
        "    for i in range(n):\n",
        "        for j in range(0, n-i-1):\n",
        "            if items[j][1] < items[j+1][1]:\n",
        "                items[j], items[j+1] = items[j+1], items[j]\n",
        "\n",
        "    return items\n",
        "\n",
        "\n",
        "\n",
        "if __name__ == \"__main__\":\n",
        "\n",
        "    words = ['apple','banana','orange','apple','apple','banana']\n",
        "\n",
        "\n",
        "    word_count = custom_count_words(words)\n",
        "\n",
        "\n",
        "    sorted_word_count = custom_sort_dict(word_count)\n",
        "\n",
        "\n",
        "    for word, count in sorted_word_count:\n",
        "        print(f\"{word}: {count}\")\n"
      ],
      "metadata": {
        "id": "J10PjdVQUbyq",
        "colab": {
          "base_uri": "https://localhost:8080/",
          "height": 106
        },
        "outputId": "5cc78ce0-8357-4f56-f971-e9ca5c66922b"
      },
      "execution_count": null,
      "outputs": [
        {
          "output_type": "error",
          "ename": "IndentationError",
          "evalue": "unexpected indent (<ipython-input-24-b47b61aab1af>, line 39)",
          "traceback": [
            "\u001b[0;36m  File \u001b[0;32m\"<ipython-input-24-b47b61aab1af>\"\u001b[0;36m, line \u001b[0;32m39\u001b[0m\n\u001b[0;31m    word_count = custom_count_words(words)\u001b[0m\n\u001b[0m    ^\u001b[0m\n\u001b[0;31mIndentationError\u001b[0m\u001b[0;31m:\u001b[0m unexpected indent\n"
          ]
        }
      ]
    },
    {
      "cell_type": "markdown",
      "source": [
        "# **Задание 6**"
      ],
      "metadata": {
        "id": "d7fDUr2WcY_G"
      }
    },
    {
      "cell_type": "markdown",
      "source": [
        "Дан словарь, содержащий информацию о людях, необходимо:\n",
        "\n",
        "\n",
        "\n",
        "*   Вывести всех людей старше 30 лет\n",
        "*   Вывести список городов и количество людей из словаря проживающих в них\n",
        "*   Вывести список профессий и список людей для каждой профессии\n",
        "\n",
        "**Критерии**\n",
        "\n",
        "Каждый из пунктов необходимо реализовать в виде функции\n",
        "\n"
      ],
      "metadata": {
        "id": "m11qdVhSWBi7"
      }
    },
    {
      "cell_type": "code",
      "source": [
        "people_info = {\n",
        "    \"Alice\": {\"age\": 25, \"city\": \"New York\", \"occupation\": \"Engineer\"},\n",
        "    \"Bob\": {\"age\": 30, \"city\": \"Los Angeles\", \"occupation\": \"Designer\"},\n",
        "    \"Charlie\": {\"age\": 35, \"city\": \"Chicago\", \"occupation\": \"Teacher\"},\n",
        "    \"Diana\": {\"age\": 28, \"city\": \"Miami\", \"occupation\": \"Doctor\"},\n",
        "    \"Ethan\": {\"age\": 40, \"city\": \"Seattle\", \"occupation\": \"Chef\"},\n",
        "    \"Frank\": {\"age\": 32, \"city\": \"Atlanta\", \"occupation\": \"Lawyer\"},\n",
        "    \"Gabriella\": {\"age\": 29, \"city\": \"San Francisco\", \"occupation\": \"Software Engineer\"},\n",
        "    \"Harrison\": {\"age\": 38, \"city\": \"Denver\", \"occupation\": \"Architect\"},\n",
        "    \"Isabella\": {\"age\": 26, \"city\": \"Washington D.C.\", \"occupation\": \"Journalist\"},\n",
        "    \"Julian\": {\"age\": 42, \"city\": \"Miami\", \"occupation\": \"Musician\"},\n",
        "    \"Kate\": {\"age\": 31, \"city\": \"Philadelphia\", \"occupation\": \"Nurse\"},\n",
        "    \"Lucas\": {\"age\": 36, \"city\": \"Nashville\", \"occupation\": \"Businessman\"},\n",
        "    \"Mia\": {\"age\": 27, \"city\": \"Atlanta\", \"occupation\": \"Artist\"},\n",
        "    \"Natalie\": {\"age\": 39, \"city\": \"Portland\", \"occupation\": \"Writer\"},\n",
        "    \"Oliver\": {\"age\": 44, \"city\": \"Minneapolis\", \"occupation\": \"Professor\"},\n",
        "    \"Penelope\": {\"age\": 33, \"city\": \"San Diego\", \"occupation\": \"Marketing Manager\"},\n",
        "    \"Quincy\": {\"age\": 41, \"city\": \"Nashville\", \"occupation\": \"Singer\"},\n",
        "    \"Rachel\": {\"age\": 34, \"city\": \"Cleveland\", \"occupation\": \"Teacher\"},\n",
        "    \"Sophia\": {\"age\": 29, \"city\": \"Nashville\", \"occupation\": \"Engineer\"},\n",
        "    \"Tessa\": {\"age\": 37, \"city\": \"Miami\", \"occupation\": \"Lawyer\"}\n",
        "}\n",
        "\n",
        "\n",
        "def get_people_above_30(people_info):\n",
        "    result = [name for name, info in people_info.items() if info[\"age\"] > 30]\n",
        "    return result\n",
        "\n",
        "\n",
        "def get_city_population(people_info):\n",
        "    city_count = {}\n",
        "    for info in people_info.values():\n",
        "        city = info[\"city\"]\n",
        "        if city in city_count:\n",
        "            city_count[city] += 1\n",
        "        else:\n",
        "            city_count[city] = 1\n",
        "    return city_count\n",
        "\n",
        "\n",
        "def get_occupation_people(people_info):\n",
        "    occupation_people = {}\n",
        "    for name, info in people_info.items():\n",
        "        occupation = info[\"occupation\"]\n",
        "        if occupation in occupation_people:\n",
        "            occupation_people[occupation].append(name)\n",
        "        else:\n",
        "            occupation_people[occupation] = [name]\n",
        "    return occupation_people\n",
        "\n",
        "\n",
        "print(\"Люди старше 30 лет:\", get_people_above_30(people_info))\n",
        "print(\"\\nКоличество людей в городах:\", get_city_population(people_info))\n",
        "print(\"\\nСписок профессий и люди:\", get_occupation_people(people_info))\n"
      ],
      "metadata": {
        "id": "qcLO5eQwXkNK",
        "colab": {
          "base_uri": "https://localhost:8080/"
        },
        "outputId": "75ff652b-fe60-4368-d3b8-da051105e511"
      },
      "execution_count": null,
      "outputs": [
        {
          "output_type": "stream",
          "name": "stdout",
          "text": [
            "Люди старше 30 лет: ['Charlie', 'Ethan', 'Frank', 'Harrison', 'Julian', 'Kate', 'Lucas', 'Natalie', 'Oliver', 'Penelope', 'Quincy', 'Rachel', 'Tessa']\n",
            "\n",
            "Количество людей в городах: {'New York': 1, 'Los Angeles': 1, 'Chicago': 1, 'Miami': 3, 'Seattle': 1, 'Atlanta': 2, 'San Francisco': 1, 'Denver': 1, 'Washington D.C.': 1, 'Philadelphia': 1, 'Nashville': 3, 'Portland': 1, 'Minneapolis': 1, 'San Diego': 1, 'Cleveland': 1}\n",
            "\n",
            "Список профессий и люди: {'Engineer': ['Alice', 'Sophia'], 'Designer': ['Bob'], 'Teacher': ['Charlie', 'Rachel'], 'Doctor': ['Diana'], 'Chef': ['Ethan'], 'Lawyer': ['Frank', 'Tessa'], 'Software Engineer': ['Gabriella'], 'Architect': ['Harrison'], 'Journalist': ['Isabella'], 'Musician': ['Julian'], 'Nurse': ['Kate'], 'Businessman': ['Lucas'], 'Artist': ['Mia'], 'Writer': ['Natalie'], 'Professor': ['Oliver'], 'Marketing Manager': ['Penelope'], 'Singer': ['Quincy']}\n"
          ]
        }
      ]
    },
    {
      "cell_type": "markdown",
      "source": [
        "# **Задание 7**"
      ],
      "metadata": {
        "id": "27IuB2YScezw"
      }
    },
    {
      "cell_type": "markdown",
      "source": [
        "Задание: Разработка системы отзывов о предметах\n",
        "\n",
        "Описание: Создать программу на Python для хранения и управления отзывами о предметах учебного курса. Программа должна позволять пользователям добавлять, просматривать и удалять отзывы, а также вычислять средний балл по заданному предмету.\n",
        "\n",
        "**Функционал:**\n",
        "\n",
        "*   Добавление отзыва и оценки:\n",
        "   *   Пользователь может ввести название предмета, оценку (от 1 до 5) и текст отзыва.\n",
        "   *   Отзывы должны храниться в структуре данных (например, словаре), где ключом будет название предмета, а значением - список отзывов (каждый отзыв может хранить оценку и комментарий).\n",
        "*   Просмотр отзывов и оценок:\n",
        "   *   Пользователь может запросить отзывы для указанного предмета.\n",
        "   *   Если для указанного предмета есть отзывы, программа должна отобразить список всех отзывов и соответствующих оценок.\n",
        "*   Удаление отзыва:\n",
        "   *   Пользователь может удалить отзыв по индексу. Необходимо заранее уведомить пользователя о том, какие отзывы доступны для удаления.\n",
        "   *   Программа должна обработать ситуацию, когда индекс введен неправильно.\n",
        "*   Вычисление среднего балла по предмету:\n",
        "   *   Пользователь может ввести название предмета, и программа должна вычислить и вывести средний балл по всем отзывам для этого предмета.\n",
        "   *   Если отзывов нет, программа должна сообщить об этом.\n",
        "\n",
        "\n",
        "**Критерии:**\n",
        "\n",
        "*   Код должен быть оформлен в виде функций\n",
        "*   Необходимо обрабатывать неправильный ввод пользователя\n",
        "*   Должны быть комментарии к функциям\n",
        "*   Присутсвует весь дополнительный функционал\n",
        "\n",
        "\n",
        "\n",
        "**Опционально:**\n",
        "\n",
        "Предлагаю вам добавить свои критерии оценки или вопросы, на которые должен ответить студент, чтобы оценить пару\n",
        "\n",
        "\n"
      ],
      "metadata": {
        "id": "Fd95-S9cYhct"
      }
    },
    {
      "cell_type": "code",
      "source": [
        "reviews = {}\n",
        "\n",
        "def add_review(subject, rating, comment):\n",
        "    if subject not in reviews:\n",
        "        reviews[subject] = []\n",
        "    if 1 <= rating <= 5:\n",
        "        reviews[subject].append({'rating': rating, 'comment': comment})\n",
        "        print(\"Отзыв добавлен.\")\n",
        "    else:\n",
        "        print(\"Ошибка: Оценка должна быть от 1 до 5.\")\n",
        "\n",
        "def view_reviews(subject):\n",
        "    if subject in reviews and reviews[subject]:\n",
        "        print(f\"Отзывы по предмету '{subject}':\")\n",
        "        for idx, review in enumerate(reviews[subject]):\n",
        "            print(f\"{idx + 1}. Оценка: {review['rating']}, Отзыв: {review['comment']}\")\n",
        "    else:\n",
        "        print(\"Отзывы по данному предмету отсутствуют.\")\n",
        "\n",
        "def delete_review(subject, index):\n",
        "    if subject in reviews and 0 <= index < len(reviews[subject]):\n",
        "        removed_review = reviews[subject].pop(index)\n",
        "        print(f\"Отзыв удален: Оценка {removed_review['rating']}, Комментарий: {removed_review['comment']}\")\n",
        "    else:\n",
        "        print(\"Ошибка: Отзыв с указанным индексом не найден.\")\n",
        "\n",
        "def calculate_average_rating(subject):\n",
        "    if subject in reviews and reviews[subject]:\n",
        "        total_rating = sum(review['rating'] for review in reviews[subject])\n",
        "        average_rating = total_rating / len(reviews[subject])\n",
        "        print(f\"Средний балл по предмету '{subject}': {average_rating:.2f}\")\n",
        "    else:\n",
        "        print(\"Отзывы по данному предмету отсутствуют.\")\n",
        "\n",
        "def start_review_system():\n",
        "    while True:\n",
        "        print(\"\\nВыберите действие:\")\n",
        "        print(\"1. Добавить отзыв\")\n",
        "        print(\"2. Просмотреть отзывы\")\n",
        "        print(\"3. Удалить отзыв\")\n",
        "        print(\"4. Вычислить средний балл\")\n",
        "        print(\"5. Выйти\")\n",
        "\n",
        "        choice = input(\"Ваш выбор: \")\n",
        "        if choice == \"1\":\n",
        "            subject = input(\"Название предмета: \")\n",
        "            try:\n",
        "                rating = int(input(\"Оценка (от 1 до 5): \"))\n",
        "                comment = input(\"Отзыв: \")\n",
        "                add_review(subject, rating, comment)\n",
        "            except ValueError:\n",
        "                print(\"Ошибка: Оценка должна быть числом от 1 до 5.\")\n",
        "\n",
        "        elif choice == \"2\":\n",
        "            subject = input(\"Название предмета: \")\n",
        "            view_reviews(subject)\n",
        "\n",
        "        elif choice == \"3\":\n",
        "            subject = input(\"Название предмета: \")\n",
        "            view_reviews(subject)\n",
        "            try:\n",
        "                index = int(input(\"Введите номер отзыва для удаления: \")) - 1\n",
        "                delete_review(subject, index)\n",
        "            except ValueError:\n",
        "                print(\"Ошибка: Неверный ввод. Введите число.\")\n",
        "\n",
        "        elif choice == \"4\":\n",
        "            subject = input(\"Название предмета: \")\n",
        "            calculate_average_rating(subject)\n",
        "\n",
        "        elif choice == \"5\":\n",
        "            print(\"Выход из системы.\")\n",
        "            break\n",
        "        else:\n",
        "            print(\"Ошибка: Неверный выбор. Попробуйте еще раз.\")\n",
        "\n",
        "\n",
        "start_review_system()\n"
      ],
      "metadata": {
        "id": "kzucJrCUa0o7",
        "colab": {
          "base_uri": "https://localhost:8080/"
        },
        "outputId": "6c4d92aa-c25d-43c4-81f9-937a2fc9cbea"
      },
      "execution_count": null,
      "outputs": [
        {
          "output_type": "stream",
          "name": "stdout",
          "text": [
            "\n",
            "Выберите действие:\n",
            "1. Добавить отзыв\n",
            "2. Просмотреть отзывы\n",
            "3. Удалить отзыв\n",
            "4. Вычислить средний балл\n",
            "5. Выйти\n",
            "Ваш выбор: 2\n",
            "Название предмета: Абаба\n",
            "Отзывы по данному предмету отсутствуют.\n",
            "\n",
            "Выберите действие:\n",
            "1. Добавить отзыв\n",
            "2. Просмотреть отзывы\n",
            "3. Удалить отзыв\n",
            "4. Вычислить средний балл\n",
            "5. Выйти\n",
            "Ваш выбор: 1\n",
            "Название предмета: Абаба\n",
            "Оценка (от 1 до 5): 5\n",
            "Отзыв: Круто\n",
            "Отзыв добавлен.\n",
            "\n",
            "Выберите действие:\n",
            "1. Добавить отзыв\n",
            "2. Просмотреть отзывы\n",
            "3. Удалить отзыв\n",
            "4. Вычислить средний балл\n",
            "5. Выйти\n",
            "Ваш выбор: 2\n",
            "Название предмета: Абаба\n",
            "Отзывы по предмету 'Абаба':\n",
            "1. Оценка: 5, Отзыв: Круто\n",
            "\n",
            "Выберите действие:\n",
            "1. Добавить отзыв\n",
            "2. Просмотреть отзывы\n",
            "3. Удалить отзыв\n",
            "4. Вычислить средний балл\n",
            "5. Выйти\n",
            "Ваш выбор: 5\n",
            "Выход из системы.\n"
          ]
        }
      ]
    }
  ]
}