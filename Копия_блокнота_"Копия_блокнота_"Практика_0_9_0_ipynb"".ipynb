{
  "nbformat": 4,
  "nbformat_minor": 0,
  "metadata": {
    "colab": {
      "provenance": [],
      "include_colab_link": true
    },
    "kernelspec": {
      "name": "python3",
      "display_name": "Python 3"
    },
    "language_info": {
      "name": "python"
    }
  },
  "cells": [
    {
      "cell_type": "markdown",
      "metadata": {
        "id": "view-in-github",
        "colab_type": "text"
      },
      "source": [
        "<a href=\"https://colab.research.google.com/github/VladislavGubarev/programming-practice/blob/main/%D0%9A%D0%BE%D0%BF%D0%B8%D1%8F_%D0%B1%D0%BB%D0%BE%D0%BA%D0%BD%D0%BE%D1%82%D0%B0_%22%D0%9A%D0%BE%D0%BF%D0%B8%D1%8F_%D0%B1%D0%BB%D0%BE%D0%BA%D0%BD%D0%BE%D1%82%D0%B0_%22%D0%9F%D1%80%D0%B0%D0%BA%D1%82%D0%B8%D0%BA%D0%B0_0_9_0_ipynb%22%22.ipynb\" target=\"_parent\"><img src=\"https://colab.research.google.com/assets/colab-badge.svg\" alt=\"Open In Colab\"/></a>"
      ]
    },
    {
      "cell_type": "markdown",
      "source": [
        "ФИО"
      ],
      "metadata": {
        "id": "8hJfL9b2l439"
      }
    },
    {
      "cell_type": "code",
      "source": [
        "print(\"Губарев Владислав Анатольевич\")"
      ],
      "metadata": {
        "id": "wRnqvYOkl6EX",
        "colab": {
          "base_uri": "https://localhost:8080/"
        },
        "outputId": "3c1c1b9d-68d8-465c-d8ee-163514260ad4"
      },
      "execution_count": null,
      "outputs": [
        {
          "output_type": "stream",
          "name": "stdout",
          "text": [
            "Губарев Владислав Анатольевич\n"
          ]
        }
      ]
    },
    {
      "cell_type": "markdown",
      "source": [
        "# Дисклеймер"
      ],
      "metadata": {
        "id": "weOtPwPQmgpD"
      }
    },
    {
      "cell_type": "markdown",
      "source": [
        "В данной практике вам необходимо применить все ваши знания по темам:\n",
        "\n",
        "- Функции\n",
        "- Словари\n",
        "- Списки\n",
        "- Множества\n",
        "- Условные конструкции\n",
        "- Запросы\n",
        "\n",
        "и все что было изучено на прошлых практических занятиях\n",
        "\n",
        "В каждом задании кратко описаны функции, которые необходимо реализовать, детали реализации вы должны продумать самостоятельно"
      ],
      "metadata": {
        "id": "LznB3uscmjDa"
      }
    },
    {
      "cell_type": "markdown",
      "source": [
        "# Задание 0"
      ],
      "metadata": {
        "id": "7nSJIqkTvC_C"
      }
    },
    {
      "cell_type": "markdown",
      "source": [
        "Создайте функцию по нахождению уникальных элементов из двух списков\n",
        "\n",
        "\n",
        "\n",
        "```\n",
        "a = [1, 2, 3, 4]\n",
        "b = [3, 4, 5, 6]\n",
        "```\n",
        "\n"
      ],
      "metadata": {
        "id": "exACjTiVvGUe"
      }
    },
    {
      "cell_type": "code",
      "source": [
        "def find_unique_elements(list1, list2):\n",
        "\n",
        "    unique_in_a = set(list1) - set(list2)\n",
        "    unique_in_b = set(list2) - set(list1)\n",
        "\n",
        "    return list(unique_in_a.union(unique_in_b))\n",
        "\n",
        "# Пример использования\n",
        "a = [1, 2, 3, 4]\n",
        "b = [3, 4, 5, 6]\n",
        "result = find_unique_elements(a, b)\n",
        "print(result)\n"
      ],
      "metadata": {
        "id": "dQheNSYd4nd2",
        "colab": {
          "base_uri": "https://localhost:8080/"
        },
        "outputId": "8eaaef64-d26e-41ee-c64c-62fe0f041230"
      },
      "execution_count": null,
      "outputs": [
        {
          "output_type": "stream",
          "name": "stdout",
          "text": [
            "[1, 2, 5, 6]\n"
          ]
        }
      ]
    },
    {
      "cell_type": "markdown",
      "source": [
        "# Задание 1"
      ],
      "metadata": {
        "id": "SVWNlBALpCNo"
      }
    },
    {
      "cell_type": "markdown",
      "source": [
        "Симулятор виртуального питомца\n",
        "\n",
        "Цель: создать виртуальный симулятор домашних животных, в котором пользователи смогут заводить питомцев и ухаживать за ними.\n",
        "\n",
        "Требования:\n",
        "\n",
        "- Функция для усыновления питомца (имя, тип, возраст).\n",
        "- Функция для того, чтобы покормить питомца, поиграть с ним или уложить его спать.\n",
        "- Функция для отображения состояния питомца (голод, радость, энергия)."
      ],
      "metadata": {
        "id": "RcKA-VEqpC7f"
      }
    },
    {
      "cell_type": "code",
      "source": [
        "import requests\n",
        "from PIL import Image\n",
        "import io\n",
        "from bs4 import BeautifulSoup\n",
        "\n",
        "\n",
        "class VirtualPet:\n",
        "    def __init__(self, name, pet_type, age):\n",
        "        self.name = name\n",
        "        self.type = pet_type\n",
        "        self.age = age\n",
        "        self.hunger = 50\n",
        "        self.happiness = 50\n",
        "        self.energy = 50\n",
        "        self.image = None\n",
        "\n",
        "    def generate_image(self):\n",
        "        \"\"\"Генерация изображения питомца через Craiyon.\"\"\"\n",
        "        try:\n",
        "            prompt = f\"A cute {self.type} named {self.name}, digital art\"\n",
        "            print(f\"Генерируем изображение для {self.name}...\")\n",
        "            url = f\"https://www.craiyon.com/\"\n",
        "            data = {\"prompt\": prompt}\n",
        "            response = requests.post(url, json=data)\n",
        "\n",
        "            # Парсинг HTML для извлечения URL изображения\n",
        "            soup = BeautifulSoup(response.text, 'html.parser')\n",
        "            img_tag = soup.find(\"img\", {\"alt\": \"Generated image\"})\n",
        "            if img_tag:\n",
        "                img_url = img_tag[\"src\"]\n",
        "                img_data = requests.get(img_url).content\n",
        "                self.image = Image.open(io.BytesIO(img_data))\n",
        "                print(f\"Изображение для {self.name} успешно создано!\")\n",
        "            else:\n",
        "                print(f\"Не удалось найти изображение на сайте.\")\n",
        "        except Exception as e:\n",
        "            print(f\"Ошибка при генерации изображения: {e}\")\n",
        "\n",
        "    def feed(self):\n",
        "        \"\"\"Покормить питомца.\"\"\"\n",
        "        if self.hunger <= 10:\n",
        "            print(f\"{self.name} уже сыт!\")\n",
        "        else:\n",
        "            self.hunger = max(0, self.hunger - 20)\n",
        "            self.happiness = min(100, self.happiness + 10)\n",
        "            print(f\"Вы покормили {self.name}. Теперь он более счастлив!\")\n",
        "\n",
        "    def play(self):\n",
        "        \"\"\"Поиграть с питомцем.\"\"\"\n",
        "        if self.energy <= 10:\n",
        "            print(f\"{self.name} слишком устал для игры!\")\n",
        "        else:\n",
        "            self.happiness = min(100, self.happiness + 20)\n",
        "            self.energy = max(0, self.energy - 20)\n",
        "            print(f\"{self.name} отлично повеселился!\")\n",
        "\n",
        "    def sleep(self):\n",
        "        \"\"\"Уложить питомца спать.\"\"\"\n",
        "        if self.energy >= 90:\n",
        "            print(f\"{self.name} уже полон энергии!\")\n",
        "        else:\n",
        "            self.energy = min(100, self.energy + 30)\n",
        "            self.hunger = min(100, self.hunger + 10)\n",
        "            print(f\"{self.name} хорошо выспался.\")\n",
        "\n",
        "    def show_status(self):\n",
        "        \"\"\"Показать состояние питомца.\"\"\"\n",
        "        print(f\"\\nСостояние {self.name}:\")\n",
        "        print(f\"  Голод: {self.hunger}/100\")\n",
        "        print(f\"  Радость: {self.happiness}/100\")\n",
        "        print(f\"  Энергия: {self.energy}/100\")\n",
        "\n",
        "    def show_image(self):\n",
        "        \"\"\"Показать изображение питомца.\"\"\"\n",
        "        if self.image:\n",
        "            self.image.show()\n",
        "        else:\n",
        "            print(f\"Для {self.name} пока нет изображения.\")\n",
        "\n",
        "\n",
        "# Основной игровой цикл\n",
        "def main():\n",
        "    print(\"Добро пожаловать в симулятор виртуального питомца!\")\n",
        "    name = input(\"Введите имя вашего питомца: \")\n",
        "    pet_type = input(\"Введите тип вашего питомца (например, кошка, собака или что-то необычное): \")\n",
        "    age = input(\"Введите возраст вашего питомца: \")\n",
        "\n",
        "    try:\n",
        "        age = int(age)\n",
        "    except ValueError:\n",
        "        print(\"Возраст должен быть числом. Установлено значение по умолчанию: 1 год.\")\n",
        "        age = 1\n",
        "\n",
        "    pet = VirtualPet(name, pet_type, age)\n",
        "    pet.generate_image()\n",
        "\n",
        "    while True:\n",
        "        print(\"\\nЧто вы хотите сделать?\")\n",
        "        print(\"1. Покормить\")\n",
        "        print(\"2. Поиграть\")\n",
        "        print(\"3. Уложить спать\")\n",
        "        print(\"4. Показать состояние\")\n",
        "        print(\"5. Показать изображение\")\n",
        "        print(\"6. Выйти\")\n",
        "        choice = input(\"Введите номер действия: \")\n",
        "\n",
        "        if choice == \"1\":\n",
        "            pet.feed()\n",
        "        elif choice == \"2\":\n",
        "            pet.play()\n",
        "        elif choice == \"3\":\n",
        "            pet.sleep()\n",
        "        elif choice == \"4\":\n",
        "            pet.show_status()\n",
        "        elif choice == \"5\":\n",
        "            pet.show_image()\n",
        "        elif choice == \"6\":\n",
        "            print(\"Спасибо за игру! До встречи!\")\n",
        "            break\n",
        "        else:\n",
        "            print(\"Неверный выбор. Попробуйте снова.\")\n",
        "\n",
        "\n",
        "if __name__ == \"__main__\":\n",
        "    main()\n"
      ],
      "metadata": {
        "id": "hE7mF-HXpJLO",
        "colab": {
          "base_uri": "https://localhost:8080/"
        },
        "outputId": "eb72c14e-aaf1-44f6-8909-5de556a85753"
      },
      "execution_count": null,
      "outputs": [
        {
          "output_type": "stream",
          "name": "stdout",
          "text": [
            "Добро пожаловать в симулятор виртуального питомца!\n",
            "Введите имя вашего питомца: Райан Гослинг\n",
            "Введите тип вашего питомца (например, кошка, собака или что-то необычное): Райан Гослинг\n",
            "Введите возраст вашего питомца: 22\n",
            "Генерируем изображение для Райан Гослинг...\n",
            "Не удалось найти изображение на сайте.\n",
            "\n",
            "Что вы хотите сделать?\n",
            "1. Покормить\n",
            "2. Поиграть\n",
            "3. Уложить спать\n",
            "4. Показать состояние\n",
            "5. Показать изображение\n",
            "6. Выйти\n",
            "Введите номер действия: 2\n",
            "Райан Гослинг отлично повеселился!\n",
            "\n",
            "Что вы хотите сделать?\n",
            "1. Покормить\n",
            "2. Поиграть\n",
            "3. Уложить спать\n",
            "4. Показать состояние\n",
            "5. Показать изображение\n",
            "6. Выйти\n",
            "Введите номер действия: 1\n",
            "Вы покормили Райан Гослинг. Теперь он более счастлив!\n",
            "\n",
            "Что вы хотите сделать?\n",
            "1. Покормить\n",
            "2. Поиграть\n",
            "3. Уложить спать\n",
            "4. Показать состояние\n",
            "5. Показать изображение\n",
            "6. Выйти\n",
            "Введите номер действия: 6\n",
            "Спасибо за игру! До встречи!\n"
          ]
        }
      ]
    },
    {
      "cell_type": "markdown",
      "source": [
        "# Задание 2"
      ],
      "metadata": {
        "id": "qZ7qFQnmssNd"
      }
    },
    {
      "cell_type": "markdown",
      "source": [
        "Рыцарь и дракон\n",
        "\n",
        "Цель: создать небольшую игру, в которой вам необходимо играть за рыцаря и сразиться с драконом\n",
        "\n",
        "Требования:\n",
        "\n",
        "- Создание персонажа (имя, информация о доспехах, оружии, урон, здоровье)\n",
        "- Управление персонажем и мини сюжет\n",
        "- Создание дракона (Имя, информация о здоровье и уроне)\n",
        "- Боевая система (нанесение и получение урона, урон должен быть случайным в заданном диапазоне)\n",
        "- Реализовать бой между драконом и рыцарем"
      ],
      "metadata": {
        "id": "UaccTe7ltNvg"
      }
    },
    {
      "cell_type": "code",
      "source": [
        "import requests\n",
        "import random\n",
        "from IPython.display import Image, Audio, display\n",
        "\n",
        "# Константы для изображений и музыки\n",
        "IMAGES = {\n",
        "    \"imp\": \"https://i.ytimg.com/vi/XHxnE0tHNfs/maxresdefault.jpg\",\n",
        "    \"wolves\": \"https://i.pinimg.com/originals/25/e9/f1/25e9f17982d6b0549eea953d90c2f96b.jpg\",\n",
        "    \"dragon\": \"https://yandex-images.clstorage.net/O5Bu61h30/933b2cxvPLP/bUV1z9_pSIsuMd89XsOI4zdVYQHy47E0mIgIk5BrYF1MPRsWtBo9mbw5A6FIaEdWvshpPLNl1dSezusksTtmH_mUI9-P6YmJaqOYOc4Hi6BnlmSVYWKi4BoICcYesujDEGcRT2oTokZv7ITwWHPchz3VtPh67Z5LStBopqeqNkErA38On3iNwqqgVbjbRIehqBjrz-Qhan1YEdXe0DWqBlgtXo8i0WWNZG8VedD21V61WrL9sudXw8pa76SqLrjOLoQ3CVm6T4Oga5B4nwCH5GHdZcGgLGZ7UJYRm1C9ZsoZ41cAqROrj63plzrbOZgdddrxPflp18uBkibnL-0zxKhKdILdtE3ILK6UdF8MwK_nEyYPoaOkdBrblFAX_yEBUCHSRqMWa8btqFR-mDyalbXc-LZw75cBjdlmoa5iMInpQnBHVzxCj-ovmzjZggfjodrgBaLs6zWY014TmrkoQdMi3oBkGuMJrCpft94yEVb_lPXwPOYTC4PWJqmuo7aLJ87zxp9-Q4PoplQ31ohAaanSrgVj6y47GBSX0Rf5bQmSqltHKBfqi2Wm37fefZnf-dI68Xut34KD026ioyW_hKSAvAHWd0rHqSzR8dzIAOdi12PFYy9sONNTGNORPGUPk6qfymye5ctqqVu2lbZfV3Yftzx47lkISlYkraajccAvCTwLEX4Fyu7o0TVejM0pIFMuxKNtI3Ud3p1Slz1oBtymmMqk3yhDq62Z8RV82x69VbX0P2eejEtRLCcjq_DAb0q-Dla4S4imop23kwpAISweq4El46N1X9Pcllu2I84SbdrCrR-pSKIuV77dv1Afvxv3sf5lnwmO0OykKur0xuiMvw3RckqGLO9f_J7KA23sm2zBb6ps95vUXdSdeamGFGBYQaSXLAthKd-xWHCX3D4ddDxwpdDDQlho6-im8kNhSb4JXj_KyqIjXP1US0rhoJWozmAl43hUG1SW0Q\"\n",
        "}\n",
        "\n",
        "MUSIC = {\n",
        "    \"imp\": \"https://rifmonomikon.space/Misantrop.mp3\",\n",
        "    \"wolves\": \"https://rifmonomikon.space/volk.mp3\",\n",
        "    \"dragon\": \"https://rifmonomikon.space/dragon.mp3\"\n",
        "}\n",
        "\n",
        "# Данные для BotHub API\n",
        "API_KEY = 'NE_DAM'\n",
        "BASE_URL = 'https://bothub.chat/api/v2/openai/v1'\n",
        "\n",
        "def play_music(url):\n",
        "    display(Audio(url=url, autoplay=True))\n",
        "\n",
        "def show_image(url):\n",
        "    display(Image(url=url, width=400, height=300))\n",
        "\n",
        "def bot_talk(prompt, role=\"user\"):\n",
        "    \"\"\"Функция для общения с Bothub API\"\"\"\n",
        "    headers = {\n",
        "        'Authorization': f'Bearer {API_KEY}',\n",
        "        'Content-Type': 'application/json'\n",
        "    }\n",
        "    messages = [{\"role\": role, \"content\": prompt}]\n",
        "    data = {\n",
        "        'model': 'gpt-3.5-turbo',\n",
        "        'messages': messages,\n",
        "        'stream': False\n",
        "    }\n",
        "    response = requests.post(f\"{BASE_URL}/chat/completions\", headers=headers, json=data)\n",
        "    if response.status_code == 200:\n",
        "        return response.json()['choices'][0]['message']['content'].strip()\n",
        "    else:\n",
        "        print(\"Ошибка при обращении к BotHub API:\", response.status_code, response.text)\n",
        "        return \"...\"\n",
        "\n",
        "def battle(enemy_health, enemy_damage, player_damage, player_defense):\n",
        "    \"\"\"Функция для боя\"\"\"\n",
        "    global player_health\n",
        "    while player_health > 0 and enemy_health > 0:\n",
        "        action = input(\"Твои действия: (атаковать/защищаться): \").strip().lower()\n",
        "        if action == \"атаковать\":\n",
        "            if random.random() < 0.6:\n",
        "                damage = player_damage * bonus_damage\n",
        "                enemy_health -= damage\n",
        "                print(f\"Ты успешно атакуешь и наносишь {damage} урона. Здоровье врага: {enemy_health}\")\n",
        "            else:\n",
        "                print(\"Твоя атака не удалась!\")\n",
        "        elif action == \"защищаться\":\n",
        "            print(\"Ты готовишься к защите!\")\n",
        "            player_defense *= 2  # временный бонус защиты\n",
        "        else:\n",
        "            print(\"Неверное действие!\")\n",
        "\n",
        "        # Атака врага\n",
        "        if enemy_health > 0:\n",
        "            if random.random() < 0.5:  # вероятность атаки врага\n",
        "                damage = max(0, enemy_damage - player_defense)\n",
        "                player_health -= damage\n",
        "                print(f\"Враг атакует и наносит {damage} урона. Твое здоровье: {player_health}\")\n",
        "            else:\n",
        "                print(\"Враг промахнулся!\")\n",
        "\n",
        "        # Сброс временной защиты\n",
        "        player_defense = 50\n",
        "\n",
        "    if player_health > 0:\n",
        "        print(\"Ты победил!\")\n",
        "        return True\n",
        "    else:\n",
        "        print(\"Ты погиб...\")\n",
        "        return False\n",
        "\n",
        "# Переменные игрока\n",
        "player_health = 100\n",
        "player_damage = 50\n",
        "player_defense = 50\n",
        "bonus_damage = 1  # x2 при дружбе с упырем\n",
        "\n",
        "# Переменные врагов\n",
        "dragon_health = 500\n",
        "imp_health = 100\n",
        "wolves_health = 150\n",
        "\n",
        "# Этап 0: Предыстория\n",
        "print(\"Ну здравствуй, драконоборец!\\nПриветствуем тебя в Средиземье.\"\n",
        "\"Впереди будет много опасностей, но это только поможет тебе стать ещё сильнее\"\n",
        "\"\\nТвоя история такова: ты сын русского помещика. \"\n",
        "\"Твой отец был очень известным торговцем, \"\n",
        "\"но он не поддержал репера по прозвищу SHAMAN\\n\"\n",
        "\"Твоего отца казнили, а тебя выгнали со стыдом и позором. Твоя задача победить дракона и вернуть \"\n",
        "\"своей семье былое величие\")\n",
        "show_image(IMAGES[\"imp\"])\n",
        "play_music(MUSIC[\"imp\"])\n",
        "\n",
        "# Этап 1: Встреча с упырем\n",
        "print(\"Ты встретил упыря!\")\n",
        "\n",
        "\n",
        "# Диалог с упырем\n",
        "imp_dialogue = bot_talk(\"Ты встретил упыря на своём пути. Он злой и недружелюбный. Он тебя не ждал. Как он на это отреагирует?\")\n",
        "print(f\"Упырь: {imp_dialogue}\")\n",
        "\n",
        "# Игрок предлагает дружбу\n",
        "player_response = input(\"Твои слова упырю (например, 'Давай будем друзьями'): \").strip()\n",
        "response_to_player = bot_talk(f\"Упырь услышал твоё предложение: {player_response}. Он решит, будет ли он с тобой дружить.\")\n",
        "print(f\"Упырь: {response_to_player}\")\n",
        "\n",
        "# Если ИИ скажет \"да\", то упырь дружит с игроком\n",
        "if \"да\" in response_to_player.lower() or \"дружить\" in response_to_player.lower():\n",
        "    bonus_damage = 2\n",
        "    print(\"Упырь стал твоим другом и дал тебе бонус к урону x2!\")\n",
        "    # Переход к бою с волками\n",
        "    print(\"На вас напали волки!\")\n",
        "    show_image(IMAGES[\"wolves\"])\n",
        "    play_music(MUSIC[\"wolves\"])\n",
        "    if not battle(wolves_health, enemy_damage=40, player_damage=player_damage, player_defense=player_defense):\n",
        "        exit()  # Игрок погиб\n",
        "else:\n",
        "    print(\"Упырь отказался дружить. Началась битва!\")\n",
        "    if not battle(imp_health, enemy_damage=30, player_damage=player_damage, player_defense=player_defense):\n",
        "        exit()  # Игрок погиб\n",
        "\n",
        "# Этап 2: Финальная битва с драконом\n",
        "print(\"Ты встретил дракона!\")\n",
        "show_image(IMAGES[\"dragon\"])\n",
        "play_music(MUSIC[\"dragon\"])\n",
        "\n",
        "# Диалог с драконом перед боем\n",
        "dragon_dialogue = bot_talk(\"Ты встретил дракона, который готов сразиться с тобой. Что он скажет?\")\n",
        "print(f\"Дракон: {dragon_dialogue}\")\n",
        "\n",
        "# Финальная битва с драконом\n",
        "if not battle(dragon_health, enemy_damage=60, player_damage=player_damage, player_defense=player_defense):\n",
        "    exit()  # Игрок погиб\n",
        "\n",
        "# Итоги на основе выбора с упырем\n",
        "if bonus_damage == 2:\n",
        "    print(\"Ты победил дракона и вернулся домой живым. Упырь стал волшебником и благодарит тебя!\")\n",
        "else:\n",
        "    print(\"Ты победил дракона, но вернулся домой обреченным...\")\n"
      ],
      "metadata": {
        "id": "LCcxp5Q0srjY",
        "colab": {
          "base_uri": "https://localhost:8080/",
          "height": 1000
        },
        "outputId": "101a1ed9-401f-4688-efd6-1c14072bebe5"
      },
      "execution_count": null,
      "outputs": [
        {
          "output_type": "stream",
          "name": "stdout",
          "text": [
            "Ну здравствуй, драконоборец!\n",
            "Приветствуем тебя в Средиземье.Впереди будет много опасностей, но это только поможет тебе стать ещё сильнее\n",
            "Твоя история такова: ты сын русского помещика. Твой отец был очень известным торговцем, но он не поддержал репера по прозвищу SHAMAN\n",
            "Твоего отца казнили, а тебя выгнали со стыдом и позором. Твоя задача победить дракона и вернуть своей семье былое величие\n"
          ]
        },
        {
          "output_type": "display_data",
          "data": {
            "text/html": [
              "<img src=\"https://i.ytimg.com/vi/XHxnE0tHNfs/maxresdefault.jpg\" width=\"400\" height=\"300\"/>"
            ],
            "text/plain": [
              "<IPython.core.display.Image object>"
            ]
          },
          "metadata": {}
        },
        {
          "output_type": "display_data",
          "data": {
            "text/plain": [
              "<IPython.lib.display.Audio object>"
            ],
            "text/html": [
              "\n",
              "                <audio  controls=\"controls\" autoplay=\"autoplay\">\n",
              "                    <source src=\"https://rifmonomikon.space/Misantrop.mp3\" type=\"audio/mpeg\" />\n",
              "                    Your browser does not support the audio element.\n",
              "                </audio>\n",
              "              "
            ]
          },
          "metadata": {}
        },
        {
          "output_type": "stream",
          "name": "stdout",
          "text": [
            "Ты встретил упыря!\n",
            "Упырь: Упырь, вероятно, встретит меня с агрессией и настороженностью. Он может выразить своё недовольство моим появлением и попытаться напасть на меня. Возможно, он начнет шипеть, ворчать и пытаться напугать меня своими действиями. В любом случае, встреча с злым упырем может быть опасной, и мне придется быть осторожным и готовым к самообороне.\n",
            "Твои слова упырю (например, 'Давай будем друзьями'): Я не хочу тебе вреда, го дружить\n",
            "Упырь: Упырь был приятно удивлен таким предложением и решил дать тебе шанс. Он согласился дружить с тобой и пообещал не причинять тебе вреда. Вместе вы отправились на приключения и стали верными друзьями.\n",
            "Упырь стал твоим другом и дал тебе бонус к урону x2!\n",
            "На вас напали волки!\n"
          ]
        },
        {
          "output_type": "display_data",
          "data": {
            "text/html": [
              "<img src=\"https://i.pinimg.com/originals/25/e9/f1/25e9f17982d6b0549eea953d90c2f96b.jpg\" width=\"400\" height=\"300\"/>"
            ],
            "text/plain": [
              "<IPython.core.display.Image object>"
            ]
          },
          "metadata": {}
        },
        {
          "output_type": "display_data",
          "data": {
            "text/plain": [
              "<IPython.lib.display.Audio object>"
            ],
            "text/html": [
              "\n",
              "                <audio  controls=\"controls\" autoplay=\"autoplay\">\n",
              "                    <source src=\"https://rifmonomikon.space/volk.mp3\" type=\"audio/mpeg\" />\n",
              "                    Your browser does not support the audio element.\n",
              "                </audio>\n",
              "              "
            ]
          },
          "metadata": {}
        },
        {
          "output_type": "stream",
          "name": "stdout",
          "text": [
            "Твои действия: (атаковать/защищаться): Атаковать\n",
            "Твоя атака не удалась!\n",
            "Враг атакует и наносит 0 урона. Твое здоровье: 100\n",
            "Твои действия: (атаковать/защищаться): Атаковать\n",
            "Твоя атака не удалась!\n",
            "Враг промахнулся!\n",
            "Твои действия: (атаковать/защищаться): Атаковать\n",
            "Твоя атака не удалась!\n",
            "Враг атакует и наносит 0 урона. Твое здоровье: 100\n",
            "Твои действия: (атаковать/защищаться): Атаковать\n",
            "Ты успешно атакуешь и наносишь 100 урона. Здоровье врага: 50\n",
            "Враг промахнулся!\n",
            "Твои действия: (атаковать/защищаться): Атаковать\n",
            "Ты успешно атакуешь и наносишь 100 урона. Здоровье врага: -50\n",
            "Ты победил!\n",
            "Ты встретил дракона!\n"
          ]
        },
        {
          "output_type": "display_data",
          "data": {
            "text/html": [
              "<img src=\"https://yandex-images.clstorage.net/O5Bu61h30/933b2cxvPLP/bUV1z9_pSIsuMd89XsOI4zdVYQHy47E0mIgIk5BrYF1MPRsWtBo9mbw5A6FIaEdWvshpPLNl1dSezusksTtmH_mUI9-P6YmJaqOYOc4Hi6BnlmSVYWKi4BoICcYesujDEGcRT2oTokZv7ITwWHPchz3VtPh67Z5LStBopqeqNkErA38On3iNwqqgVbjbRIehqBjrz-Qhan1YEdXe0DWqBlgtXo8i0WWNZG8VedD21V61WrL9sudXw8pa76SqLrjOLoQ3CVm6T4Oga5B4nwCH5GHdZcGgLGZ7UJYRm1C9ZsoZ41cAqROrj63plzrbOZgdddrxPflp18uBkibnL-0zxKhKdILdtE3ILK6UdF8MwK_nEyYPoaOkdBrblFAX_yEBUCHSRqMWa8btqFR-mDyalbXc-LZw75cBjdlmoa5iMInpQnBHVzxCj-ovmzjZggfjodrgBaLs6zWY014TmrkoQdMi3oBkGuMJrCpft94yEVb_lPXwPOYTC4PWJqmuo7aLJ87zxp9-Q4PoplQ31ohAaanSrgVj6y47GBSX0Rf5bQmSqltHKBfqi2Wm37fefZnf-dI68Xut34KD026ioyW_hKSAvAHWd0rHqSzR8dzIAOdi12PFYy9sONNTGNORPGUPk6qfymye5ctqqVu2lbZfV3Yftzx47lkISlYkraajccAvCTwLEX4Fyu7o0TVejM0pIFMuxKNtI3Ud3p1Slz1oBtymmMqk3yhDq62Z8RV82x69VbX0P2eejEtRLCcjq_DAb0q-Dla4S4imop23kwpAISweq4El46N1X9Pcllu2I84SbdrCrR-pSKIuV77dv1Afvxv3sf5lnwmO0OykKur0xuiMvw3RckqGLO9f_J7KA23sm2zBb6ps95vUXdSdeamGFGBYQaSXLAthKd-xWHCX3D4ddDxwpdDDQlho6-im8kNhSb4JXj_KyqIjXP1US0rhoJWozmAl43hUG1SW0Q\" width=\"400\" height=\"300\"/>"
            ],
            "text/plain": [
              "<IPython.core.display.Image object>"
            ]
          },
          "metadata": {}
        },
        {
          "output_type": "display_data",
          "data": {
            "text/plain": [
              "<IPython.lib.display.Audio object>"
            ],
            "text/html": [
              "\n",
              "                <audio  controls=\"controls\" autoplay=\"autoplay\">\n",
              "                    <source src=\"https://rifmonomikon.space/dragon.mp3\" type=\"audio/mpeg\" />\n",
              "                    Your browser does not support the audio element.\n",
              "                </audio>\n",
              "              "
            ]
          },
          "metadata": {}
        },
        {
          "output_type": "stream",
          "name": "stdout",
          "text": [
            "Дракон: \"Ты думаешь, что сможешь победить меня? Подготовься к своему поражению, смертный!\"\n"
          ]
        },
        {
          "output_type": "error",
          "ename": "KeyboardInterrupt",
          "evalue": "Interrupted by user",
          "traceback": [
            "\u001b[0;31m---------------------------------------------------------------------------\u001b[0m",
            "\u001b[0;31mKeyboardInterrupt\u001b[0m                         Traceback (most recent call last)",
            "\u001b[0;32m<ipython-input-4-e7585d379785>\u001b[0m in \u001b[0;36m<cell line: 144>\u001b[0;34m()\u001b[0m\n\u001b[1;32m    142\u001b[0m \u001b[0;34m\u001b[0m\u001b[0m\n\u001b[1;32m    143\u001b[0m \u001b[0;31m# Финальная битва с драконом\u001b[0m\u001b[0;34m\u001b[0m\u001b[0;34m\u001b[0m\u001b[0m\n\u001b[0;32m--> 144\u001b[0;31m \u001b[0;32mif\u001b[0m \u001b[0;32mnot\u001b[0m \u001b[0mbattle\u001b[0m\u001b[0;34m(\u001b[0m\u001b[0mdragon_health\u001b[0m\u001b[0;34m,\u001b[0m \u001b[0menemy_damage\u001b[0m\u001b[0;34m=\u001b[0m\u001b[0;36m60\u001b[0m\u001b[0;34m,\u001b[0m \u001b[0mplayer_damage\u001b[0m\u001b[0;34m=\u001b[0m\u001b[0mplayer_damage\u001b[0m\u001b[0;34m,\u001b[0m \u001b[0mplayer_defense\u001b[0m\u001b[0;34m=\u001b[0m\u001b[0mplayer_defense\u001b[0m\u001b[0;34m)\u001b[0m\u001b[0;34m:\u001b[0m\u001b[0;34m\u001b[0m\u001b[0;34m\u001b[0m\u001b[0m\n\u001b[0m\u001b[1;32m    145\u001b[0m     \u001b[0mexit\u001b[0m\u001b[0;34m(\u001b[0m\u001b[0;34m)\u001b[0m  \u001b[0;31m# Игрок погиб\u001b[0m\u001b[0;34m\u001b[0m\u001b[0;34m\u001b[0m\u001b[0m\n\u001b[1;32m    146\u001b[0m \u001b[0;34m\u001b[0m\u001b[0m\n",
            "\u001b[0;32m<ipython-input-4-e7585d379785>\u001b[0m in \u001b[0;36mbattle\u001b[0;34m(enemy_health, enemy_damage, player_damage, player_defense)\u001b[0m\n\u001b[1;32m     49\u001b[0m     \u001b[0;32mglobal\u001b[0m \u001b[0mplayer_health\u001b[0m\u001b[0;34m\u001b[0m\u001b[0;34m\u001b[0m\u001b[0m\n\u001b[1;32m     50\u001b[0m     \u001b[0;32mwhile\u001b[0m \u001b[0mplayer_health\u001b[0m \u001b[0;34m>\u001b[0m \u001b[0;36m0\u001b[0m \u001b[0;32mand\u001b[0m \u001b[0menemy_health\u001b[0m \u001b[0;34m>\u001b[0m \u001b[0;36m0\u001b[0m\u001b[0;34m:\u001b[0m\u001b[0;34m\u001b[0m\u001b[0;34m\u001b[0m\u001b[0m\n\u001b[0;32m---> 51\u001b[0;31m         \u001b[0maction\u001b[0m \u001b[0;34m=\u001b[0m \u001b[0minput\u001b[0m\u001b[0;34m(\u001b[0m\u001b[0;34m\"Твои действия: (атаковать/защищаться): \"\u001b[0m\u001b[0;34m)\u001b[0m\u001b[0;34m.\u001b[0m\u001b[0mstrip\u001b[0m\u001b[0;34m(\u001b[0m\u001b[0;34m)\u001b[0m\u001b[0;34m.\u001b[0m\u001b[0mlower\u001b[0m\u001b[0;34m(\u001b[0m\u001b[0;34m)\u001b[0m\u001b[0;34m\u001b[0m\u001b[0;34m\u001b[0m\u001b[0m\n\u001b[0m\u001b[1;32m     52\u001b[0m         \u001b[0;32mif\u001b[0m \u001b[0maction\u001b[0m \u001b[0;34m==\u001b[0m \u001b[0;34m\"атаковать\"\u001b[0m\u001b[0;34m:\u001b[0m\u001b[0;34m\u001b[0m\u001b[0;34m\u001b[0m\u001b[0m\n\u001b[1;32m     53\u001b[0m             \u001b[0;32mif\u001b[0m \u001b[0mrandom\u001b[0m\u001b[0;34m.\u001b[0m\u001b[0mrandom\u001b[0m\u001b[0;34m(\u001b[0m\u001b[0;34m)\u001b[0m \u001b[0;34m<\u001b[0m \u001b[0;36m0.6\u001b[0m\u001b[0;34m:\u001b[0m\u001b[0;34m\u001b[0m\u001b[0;34m\u001b[0m\u001b[0m\n",
            "\u001b[0;32m/usr/local/lib/python3.10/dist-packages/ipykernel/kernelbase.py\u001b[0m in \u001b[0;36mraw_input\u001b[0;34m(self, prompt)\u001b[0m\n\u001b[1;32m    849\u001b[0m                 \u001b[0;34m\"raw_input was called, but this frontend does not support input requests.\"\u001b[0m\u001b[0;34m\u001b[0m\u001b[0;34m\u001b[0m\u001b[0m\n\u001b[1;32m    850\u001b[0m             )\n\u001b[0;32m--> 851\u001b[0;31m         return self._input_request(str(prompt),\n\u001b[0m\u001b[1;32m    852\u001b[0m             \u001b[0mself\u001b[0m\u001b[0;34m.\u001b[0m\u001b[0m_parent_ident\u001b[0m\u001b[0;34m,\u001b[0m\u001b[0;34m\u001b[0m\u001b[0;34m\u001b[0m\u001b[0m\n\u001b[1;32m    853\u001b[0m             \u001b[0mself\u001b[0m\u001b[0;34m.\u001b[0m\u001b[0m_parent_header\u001b[0m\u001b[0;34m,\u001b[0m\u001b[0;34m\u001b[0m\u001b[0;34m\u001b[0m\u001b[0m\n",
            "\u001b[0;32m/usr/local/lib/python3.10/dist-packages/ipykernel/kernelbase.py\u001b[0m in \u001b[0;36m_input_request\u001b[0;34m(self, prompt, ident, parent, password)\u001b[0m\n\u001b[1;32m    893\u001b[0m             \u001b[0;32mexcept\u001b[0m \u001b[0mKeyboardInterrupt\u001b[0m\u001b[0;34m:\u001b[0m\u001b[0;34m\u001b[0m\u001b[0;34m\u001b[0m\u001b[0m\n\u001b[1;32m    894\u001b[0m                 \u001b[0;31m# re-raise KeyboardInterrupt, to truncate traceback\u001b[0m\u001b[0;34m\u001b[0m\u001b[0;34m\u001b[0m\u001b[0m\n\u001b[0;32m--> 895\u001b[0;31m                 \u001b[0;32mraise\u001b[0m \u001b[0mKeyboardInterrupt\u001b[0m\u001b[0;34m(\u001b[0m\u001b[0;34m\"Interrupted by user\"\u001b[0m\u001b[0;34m)\u001b[0m \u001b[0;32mfrom\u001b[0m \u001b[0;32mNone\u001b[0m\u001b[0;34m\u001b[0m\u001b[0;34m\u001b[0m\u001b[0m\n\u001b[0m\u001b[1;32m    896\u001b[0m             \u001b[0;32mexcept\u001b[0m \u001b[0mException\u001b[0m \u001b[0;32mas\u001b[0m \u001b[0me\u001b[0m\u001b[0;34m:\u001b[0m\u001b[0;34m\u001b[0m\u001b[0;34m\u001b[0m\u001b[0m\n\u001b[1;32m    897\u001b[0m                 \u001b[0mself\u001b[0m\u001b[0;34m.\u001b[0m\u001b[0mlog\u001b[0m\u001b[0;34m.\u001b[0m\u001b[0mwarning\u001b[0m\u001b[0;34m(\u001b[0m\u001b[0;34m\"Invalid Message:\"\u001b[0m\u001b[0;34m,\u001b[0m \u001b[0mexc_info\u001b[0m\u001b[0;34m=\u001b[0m\u001b[0;32mTrue\u001b[0m\u001b[0;34m)\u001b[0m\u001b[0;34m\u001b[0m\u001b[0;34m\u001b[0m\u001b[0m\n",
            "\u001b[0;31mKeyboardInterrupt\u001b[0m: Interrupted by user"
          ]
        }
      ]
    },
    {
      "cell_type": "markdown",
      "source": [
        "# Задание 3\n"
      ],
      "metadata": {
        "id": "N8oFiEXol3e2"
      }
    },
    {
      "cell_type": "markdown",
      "source": [
        "Цель - создать менеджера команды Pokémon, который позволит пользователям:\n",
        "\n",
        "- Добавлять покемонов в свою команду. (если такого покемона еще нет в команде)\n",
        "- Удалять покемонов из их команды.\n",
        "- Просматривать подробную информацию обо всех покемонах в команде.\n",
        "- Находить покемона по имени.\n",
        "- Устраивать тренировочный бой между двумя покемонами\n",
        "\n",
        "Для данной задачи используйте: https://pokeapi.co/\n"
      ],
      "metadata": {
        "id": "9p4WQG_Vl7wB"
      }
    },
    {
      "cell_type": "code",
      "source": [
        "import requests\n",
        "\n",
        "\n",
        "class PokemonTeamManager:\n",
        "    def __init__(self):\n",
        "        self.team = []\n",
        "\n",
        "    def get_pokemon_info(self, name):\n",
        "        \"\"\"Получить информацию о покемоне из API.\"\"\"\n",
        "        url = f\"https://pokeapi.co/api/v2/pokemon/{name.lower()}\"\n",
        "        response = requests.get(url)\n",
        "        if response.status_code == 200:\n",
        "            data = response.json()\n",
        "            return {\n",
        "                \"name\": data[\"name\"],\n",
        "                \"height\": data[\"height\"],\n",
        "                \"weight\": data[\"weight\"],\n",
        "                \"types\": [t[\"type\"][\"name\"] for t in data[\"types\"]],\n",
        "                \"stats\": {stat[\"stat\"][\"name\"]: stat[\"base_stat\"] for stat in data[\"stats\"]}\n",
        "            }\n",
        "        else:\n",
        "            return None\n",
        "\n",
        "    def add_pokemon(self, name):\n",
        "        \"\"\"Добавить покемона в команду.\"\"\"\n",
        "        if len(self.team) >= 6:\n",
        "            print(\"Команда уже полная! Максимум 6 покемонов.\")\n",
        "            return\n",
        "        if name.lower() in [p[\"name\"] for p in self.team]:\n",
        "            print(f\"{name} уже есть в команде!\")\n",
        "            return\n",
        "        pokemon = self.get_pokemon_info(name)\n",
        "        if pokemon:\n",
        "            self.team.append(pokemon)\n",
        "            print(f\"{name.capitalize()} добавлен в команду!\")\n",
        "        else:\n",
        "            print(f\"Покемон с именем {name} не найден.\")\n",
        "\n",
        "    def remove_pokemon(self, name):\n",
        "        \"\"\"Удалить покемона из команды.\"\"\"\n",
        "        for pokemon in self.team:\n",
        "            if pokemon[\"name\"] == name.lower():\n",
        "                self.team.remove(pokemon)\n",
        "                print(f\"{name.capitalize()} удалён из команды!\")\n",
        "                return\n",
        "        print(f\"{name} не найден в команде.\")\n",
        "\n",
        "    def view_team(self):\n",
        "        \"\"\"Просмотреть всех покемонов в команде.\"\"\"\n",
        "        if not self.team:\n",
        "            print(\"Команда пуста.\")\n",
        "            return\n",
        "        print(\"Текущая команда:\")\n",
        "        for idx, pokemon in enumerate(self.team, start=1):\n",
        "            print(f\"{idx}. {pokemon['name'].capitalize()} - Типы: {', '.join(pokemon['types'])}\")\n",
        "\n",
        "    def find_pokemon(self, name):\n",
        "        \"\"\"Найти покемона в команде по имени.\"\"\"\n",
        "        for pokemon in self.team:\n",
        "            if pokemon[\"name\"] == name.lower():\n",
        "                print(f\"Найден: {pokemon['name'].capitalize()}, Типы: {', '.join(pokemon['types'])}\")\n",
        "                return\n",
        "        print(f\"{name} не найден в команде.\")\n",
        "\n",
        "    def train_battle(self, name1, name2):\n",
        "        \"\"\"Тренировочный бой между двумя покемонами.\"\"\"\n",
        "        pokemon1 = next((p for p in self.team if p[\"name\"] == name1.lower()), None)\n",
        "        pokemon2 = next((p for p in self.team if p[\"name\"] == name2.lower()), None)\n",
        "        if not pokemon1 or not pokemon2:\n",
        "            print(f\"Один из покемонов ({name1} или {name2}) не найден в команде.\")\n",
        "            return\n",
        "\n",
        "        stat1 = sum(pokemon1[\"stats\"].values())\n",
        "        stat2 = sum(pokemon2[\"stats\"].values())\n",
        "        if stat1 > stat2:\n",
        "            print(f\"{pokemon1['name'].capitalize()} победил {pokemon2['name'].capitalize()}!\")\n",
        "        elif stat1 < stat2:\n",
        "            print(f\"{pokemon2['name'].capitalize()} победил {pokemon1['name'].capitalize()}!\")\n",
        "        else:\n",
        "            print(f\"Бой между {pokemon1['name'].capitalize()} и {pokemon2['name'].capitalize()} закончился ничьей!\")\n",
        "\n",
        "\n",
        "# Пример использования\n",
        "if __name__ == \"__main__\":\n",
        "    manager = PokemonTeamManager()\n",
        "\n",
        "    while True:\n",
        "        print(\"\\nМеню:\")\n",
        "        print(\"1. Добавить покемона\")\n",
        "        print(\"2. Удалить покемона\")\n",
        "        print(\"3. Просмотреть команду\")\n",
        "        print(\"4. Найти покемона\")\n",
        "        print(\"5. Тренировочный бой\")\n",
        "        print(\"6. Выход\")\n",
        "        choice = input(\"Выберите действие: \")\n",
        "\n",
        "        if choice == \"1\":\n",
        "            name = input(\"Введите имя покемона: \")\n",
        "            manager.add_pokemon(name)\n",
        "        elif choice == \"2\":\n",
        "            name = input(\"Введите имя покемона: \")\n",
        "            manager.remove_pokemon(name)\n",
        "        elif choice == \"3\":\n",
        "            manager.view_team()\n",
        "        elif choice == \"4\":\n",
        "            name = input(\"Введите имя покемона: \")\n",
        "            manager.find_pokemon(name)\n",
        "        elif choice == \"5\":\n",
        "            name1 = input(\"Введите имя первого покемона: \")\n",
        "            name2 = input(\"Введите имя второго покемона: \")\n",
        "            manager.train_battle(name1, name2)\n",
        "        elif choice == \"6\":\n",
        "            print(\"Выход из программы.\")\n",
        "            break\n",
        "        else:\n",
        "            print(\"Неверный выбор. Попробуйте снова.\")\n"
      ],
      "metadata": {
        "id": "NnGYp1MTqi5k"
      },
      "execution_count": null,
      "outputs": []
    }
  ]
}
